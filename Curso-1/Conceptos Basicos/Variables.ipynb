{
 "cells": [
  {
   "cell_type": "markdown",
   "metadata": {},
   "source": [
    "# Declaracion de Variables"
   ]
  },
  {
   "cell_type": "markdown",
   "metadata": {},
   "source": [
    "Las variables son representadas a traves de un nombre, el lenguaje python diferenciara mayusculas de minusculas, estas deben ser declaradas a traves de una nomenclatura y puede tener numeros."
   ]
  },
  {
   "cell_type": "code",
   "execution_count": 4,
   "metadata": {},
   "outputs": [],
   "source": [
    "profesor_nombre = \"Julio\""
   ]
  },
  {
   "cell_type": "code",
   "execution_count": 5,
   "metadata": {},
   "outputs": [
    {
     "name": "stdout",
     "output_type": "stream",
     "text": [
      "Julio\n"
     ]
    }
   ],
   "source": [
    "print(profesor_nombre)"
   ]
  },
  {
   "cell_type": "code",
   "execution_count": 6,
   "metadata": {},
   "outputs": [
    {
     "name": "stdout",
     "output_type": "stream",
     "text": [
      "JulioMoreno\n"
     ]
    }
   ],
   "source": [
    "profesor_apellido = \"Moreno\"\n",
    "profesor = profesor_nombre + profesor_apellido\n",
    "print(profesor)"
   ]
  },
  {
   "cell_type": "markdown",
   "metadata": {},
   "source": [
    "### En python las constantes no existen"
   ]
  },
  {
   "cell_type": "markdown",
   "metadata": {},
   "source": [
    "En python las constantes no existen, por lo cual si se desea utilizar una constante debe tener una nomenclatura diferente y esta misma no sera cambiada a lo largo del codigo, a menos que se quiera."
   ]
  },
  {
   "cell_type": "code",
   "execution_count": null,
   "metadata": {},
   "outputs": [],
   "source": []
  }
 ],
 "metadata": {
  "kernelspec": {
   "display_name": "Python 3",
   "language": "python",
   "name": "python3"
  },
  "language_info": {
   "codemirror_mode": {
    "name": "ipython",
    "version": 3
   },
   "file_extension": ".py",
   "mimetype": "text/x-python",
   "name": "python",
   "nbconvert_exporter": "python",
   "pygments_lexer": "ipython3",
   "version": "3.7.5"
  }
 },
 "nbformat": 4,
 "nbformat_minor": 4
}
