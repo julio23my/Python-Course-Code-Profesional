{
 "cells": [
  {
   "cell_type": "markdown",
   "metadata": {},
   "source": [
    "# Ejercicios\n",
    "Los siguientes, son una serie de ejercicios que tienen como finalidad el que tu practiques los conocimientos adquiridos a lo largo de este segundo bloque. Estos ejercicios se haran solo en base al conocimiento obtenido hasta el momento, por lo cual no se usaran listas.\n"
   ]
  },
  {
   "cell_type": "markdown",
   "metadata": {},
   "source": [
    "1.-Dado de los valores ingresados por el usuario (base, altura) calcular y mostrar en pantalla el área de un triángulo."
   ]
  },
  {
   "cell_type": "code",
   "execution_count": 2,
   "metadata": {},
   "outputs": [
    {
     "name": "stdout",
     "output_type": "stream",
     "text": [
      "ingresa la base del triangulo  \n",
      "50\n",
      "ingresa la altura del triangulo  \n",
      "30.5\n",
      "el area del triangulo es:  762.5\n"
     ]
    }
   ],
   "source": [
    "base = float(input('ingresa la base del triangulo  \\n'))\n",
    "altura = float(input('ingresa la altura del triangulo  \\n'))\n",
    "area = (base*altura)/2\n",
    "print('el area del triangulo es: ', area)"
   ]
  },
  {
   "cell_type": "markdown",
   "metadata": {},
   "source": [
    "2.-Convertir la cantidad de dólares ingresados por un usuario a pesos colombianos y mostrar el resultado en pantalla.\n"
   ]
  },
  {
   "cell_type": "code",
   "execution_count": 6,
   "metadata": {},
   "outputs": [
    {
     "name": "stdout",
     "output_type": "stream",
     "text": [
      "ingresa la cantidad de dolares a cambiar:  \n",
      "5\n",
      "La cantidad de pesos es: 19560.05 pesos\n"
     ]
    }
   ],
   "source": [
    "dolares = float(input('ingresa la cantidad de dolares a cambiar:  \\n'))\n",
    "pesos = dolares*3912.01\n",
    "print('La cantidad de pesos es: %s pesos'% round(pesos, 2))"
   ]
  },
  {
   "cell_type": "markdown",
   "metadata": {},
   "source": [
    "3.-Convertir los grados centígrados ingresados por un usuario a grados Fahrenheit y mostrar el resultado en pantalla.\n"
   ]
  },
  {
   "cell_type": "code",
   "execution_count": 7,
   "metadata": {},
   "outputs": [
    {
     "name": "stdout",
     "output_type": "stream",
     "text": [
      "ingresa la temperatura centigrados : \n",
      "50\n",
      "la conversion es:  122.0\n"
     ]
    }
   ],
   "source": [
    "#ºC x 1.8 + 32\n",
    "cent = float(input('ingresa la temperatura centigrados : \\n'))\n",
    "fan = cent*1.8+32\n",
    "print('la conversion es: ', round(fan, 2))\n"
   ]
  },
  {
   "cell_type": "markdown",
   "metadata": {},
   "source": [
    "4.-Mostrar en pantalla la cantidad de segundos que tiene un lustro.\n"
   ]
  },
  {
   "cell_type": "code",
   "execution_count": 9,
   "metadata": {},
   "outputs": [
    {
     "name": "stdout",
     "output_type": "stream",
     "text": [
      "ingresa la cantidad de segundos5\n",
      "788500000.0\n"
     ]
    }
   ],
   "source": [
    "segundos = float(input('ingresa la cantidad de segundos'))\n",
    "lustro = 1.577e+8*segundos\n",
    "print(lustro)\n"
   ]
  },
  {
   "cell_type": "markdown",
   "metadata": {},
   "source": [
    "5.-Calcular la cantidad de segundos que le toma a la luz viajar del sol a Marte y mostrar el resultado en pantalla.\n"
   ]
  },
  {
   "cell_type": "code",
   "execution_count": 9,
   "metadata": {},
   "outputs": [
    {
     "name": "stdout",
     "output_type": "stream",
     "text": [
      "La luz del sol tarda en llegar:  760\n"
     ]
    }
   ],
   "source": [
    "distancia_m = 227940000\n",
    "velocidad= 299792 \n",
    "print('La luz del sol tarda en llegar: ', round((distancia_m/velocidad)))"
   ]
  },
  {
   "cell_type": "markdown",
   "metadata": {},
   "source": [
    "6.-Calcular el número de vueltas que da una llanta en 1 km, dado que el diámetro de la llanta es de 50 cm, mostrar el resultado en pantalla.\n"
   ]
  },
  {
   "cell_type": "code",
   "execution_count": 13,
   "metadata": {},
   "outputs": [
    {
     "name": "stdout",
     "output_type": "stream",
     "text": [
      "el numero de vueltas es 637\n"
     ]
    }
   ],
   "source": [
    "llanta=50\n",
    "radio=llanta/2\n",
    "longitud= 1000*100\n",
    "ecuacion= longitud/(radio*3.14*2)\n",
    "print('el numero de vueltas es', round(ecuacion))"
   ]
  },
  {
   "cell_type": "markdown",
   "metadata": {},
   "source": [
    "Calcular y mostrar en pantalla la longitud de la sombra de un edificio de 20 metros de altura cuando el ángulo que forman los rayos del sol con el suelo es de 22º.\n"
   ]
  },
  {
   "cell_type": "code",
   "execution_count": null,
   "metadata": {},
   "outputs": [],
   "source": []
  },
  {
   "cell_type": "markdown",
   "metadata": {},
   "source": [
    "Mostrar en pantalla True o False si la edad ingresada por dos usuarios es la misma.\n"
   ]
  },
  {
   "cell_type": "code",
   "execution_count": 15,
   "metadata": {},
   "outputs": [
    {
     "name": "stdout",
     "output_type": "stream",
     "text": [
      "ingresa la edad del usuario 1: 23\n",
      "ingresa la edad del usuario 2: 22\n"
     ]
    },
    {
     "data": {
      "text/plain": [
       "False"
      ]
     },
     "execution_count": 15,
     "metadata": {},
     "output_type": "execute_result"
    }
   ],
   "source": [
    "edad1= input('ingresa la edad del usuario 1: ')\n",
    "edad2= input('ingresa la edad del usuario 2: ')\n",
    "edad1==edad2"
   ]
  },
  {
   "cell_type": "markdown",
   "metadata": {},
   "source": [
    "Mostrar en pantalla la cantidad de meses transcurridos desde la fecha de nacimiento de un usuario.\n"
   ]
  },
  {
   "cell_type": "code",
   "execution_count": null,
   "metadata": {},
   "outputs": [],
   "source": []
  },
  {
   "cell_type": "markdown",
   "metadata": {},
   "source": [
    "Mostrar en pantalla el promedio de un alumno que ha cursado 5 materias (Español, Matemáticas, Economía, Programación, Ingles)."
   ]
  },
  {
   "cell_type": "code",
   "execution_count": 18,
   "metadata": {},
   "outputs": [
    {
     "name": "stdout",
     "output_type": "stream",
     "text": [
      "ingresa la nota de Espanol: 20\n",
      "ingresa la nota de Matematicas: 15\n",
      "ingresa la nota de Economia: 10\n",
      "ingresa la nota Programacion: 15\n",
      "ingresa la nota de Ingles: 20\n",
      "promedio es:  16.0\n"
     ]
    }
   ],
   "source": [
    "nota_1= float(input('ingresa la nota de Espanol: '))\n",
    "nota_2= float(input('ingresa la nota de Matematicas: '))\n",
    "nota_3= float(input('ingresa la nota de Economia: '))\n",
    "nota_4= float(input('ingresa la nota Programacion: '))\n",
    "nota_5= float(input('ingresa la nota de Ingles: '))\n",
    "\n",
    "resultado=(nota_1+nota_2+nota_3+nota_4+nota_5)/5\n",
    "\n",
    "print('promedio es: ', round(resultado, 2))"
   ]
  },
  {
   "cell_type": "code",
   "execution_count": null,
   "metadata": {},
   "outputs": [],
   "source": []
  }
 ],
 "metadata": {
  "kernelspec": {
   "display_name": "Python 3",
   "language": "python",
   "name": "python3"
  },
  "language_info": {
   "codemirror_mode": {
    "name": "ipython",
    "version": 3
   },
   "file_extension": ".py",
   "mimetype": "text/x-python",
   "name": "python",
   "nbconvert_exporter": "python",
   "pygments_lexer": "ipython3",
   "version": "3.7.5"
  }
 },
 "nbformat": 4,
 "nbformat_minor": 4
}
