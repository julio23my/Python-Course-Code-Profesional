{
 "cells": [
  {
   "cell_type": "markdown",
   "metadata": {},
   "source": [
    "# Listas\n",
    "Las listas son variables de almacenamiento multiple o como su nombre lo indica, son propiamente unas listas de datos.\n",
    "Se debe colocar como una variable pero seguido del signo igual  se destacaran los corchetes. las listas pueden ser: int, float, lista y diversos datos. se asimilan a los arreglos, pero son modificables y pueden ser agregados o eliminados las listas"
   ]
  },
  {
   "cell_type": "code",
   "execution_count": 1,
   "metadata": {},
   "outputs": [],
   "source": [
    "lista = [1,True,5.56,'prueba']"
   ]
  },
  {
   "cell_type": "markdown",
   "metadata": {},
   "source": [
    "### Recomendacion\n",
    "se recomienda hacer una lista de un solo tipo de dato para que estos mismos no se mezclen de mala manera a la hora de ensenar o manipular datos"
   ]
  },
  {
   "cell_type": "code",
   "execution_count": 2,
   "metadata": {},
   "outputs": [],
   "source": [
    "cursos = ['python','django','flask','c','c++','c#','java','php']"
   ]
  },
  {
   "cell_type": "code",
   "execution_count": 7,
   "metadata": {},
   "outputs": [
    {
     "name": "stdout",
     "output_type": "stream",
     "text": [
      "flask\n",
      "python\n",
      "php\n"
     ]
    }
   ],
   "source": [
    "print(cursos[2])\n",
    "print(cursos[0])\n",
    "print(cursos[-1])"
   ]
  },
  {
   "cell_type": "code",
   "execution_count": 10,
   "metadata": {},
   "outputs": [
    {
     "name": "stdout",
     "output_type": "stream",
     "text": [
      "['python', 'django', 'flask', 'c']\n"
     ]
    }
   ],
   "source": [
    "print(cursos[:4])"
   ]
  },
  {
   "cell_type": "markdown",
   "metadata": {},
   "source": [
    "### Listas en sublistas\n",
    "Estas son las formas en las cuales podemos crear una nueva lista (sublistas) a partir de otra.\n",
    "\n",
    "* [:] Todos los elementos.\n",
    "* [start:] Todos los elementos desde el índice establecido(start).\n",
    "* [:end] Todos los elementos desde el índice cero hasta el índice establecido(end).\n",
    "* [start:end] Todos los elementos de un rango de índices.\n",
    "* [start:end:step] Todos los elementos de un rango de índices con saltos. \n",
    "\n",
    "De igual forma, este listado es aplicable a las tuplas y los strings."
   ]
  },
  {
   "cell_type": "markdown",
   "metadata": {},
   "source": [
    "### Localizacion de datos\n",
    "para python podriamos demostrar diversa cantidad de datos en una lista con la notacion : esta misma siendo la partidaria desde que punto hasta que punto se mostrarian los datos."
   ]
  },
  {
   "cell_type": "code",
   "execution_count": 16,
   "metadata": {},
   "outputs": [
    {
     "data": {
      "text/plain": [
       "['c#', 'java', 'php']"
      ]
     },
     "execution_count": 16,
     "metadata": {},
     "output_type": "execute_result"
    }
   ],
   "source": [
    "cursos[5:]"
   ]
  },
  {
   "cell_type": "code",
   "execution_count": 17,
   "metadata": {},
   "outputs": [
    {
     "data": {
      "text/plain": [
       "['c#', 'java']"
      ]
     },
     "execution_count": 17,
     "metadata": {},
     "output_type": "execute_result"
    }
   ],
   "source": [
    "cursos[5:-1]"
   ]
  },
  {
   "cell_type": "code",
   "execution_count": 18,
   "metadata": {},
   "outputs": [
    {
     "data": {
      "text/plain": [
       "['python', 'django', 'flask']"
      ]
     },
     "execution_count": 18,
     "metadata": {},
     "output_type": "execute_result"
    }
   ],
   "source": [
    "cursos[0:3]"
   ]
  },
  {
   "cell_type": "code",
   "execution_count": 19,
   "metadata": {},
   "outputs": [
    {
     "data": {
      "text/plain": [
       "['python', 'django', 'flask', 'c']"
      ]
     },
     "execution_count": 19,
     "metadata": {},
     "output_type": "execute_result"
    }
   ],
   "source": [
    "cursos[0:4]"
   ]
  },
  {
   "cell_type": "code",
   "execution_count": 20,
   "metadata": {},
   "outputs": [
    {
     "data": {
      "text/plain": [
       "['python', 'django', 'flask', 'c']"
      ]
     },
     "execution_count": 20,
     "metadata": {},
     "output_type": "execute_result"
    }
   ],
   "source": [
    "cursos[:4]"
   ]
  },
  {
   "cell_type": "code",
   "execution_count": 21,
   "metadata": {},
   "outputs": [
    {
     "data": {
      "text/plain": [
       "['python', 'django', 'flask', 'c']"
      ]
     },
     "execution_count": 21,
     "metadata": {},
     "output_type": "execute_result"
    }
   ],
   "source": [
    "cursos[:-4]"
   ]
  },
  {
   "cell_type": "code",
   "execution_count": 22,
   "metadata": {},
   "outputs": [
    {
     "data": {
      "text/plain": [
       "['python', 'django', 'flask', 'c', 'c++', 'c#', 'java']"
      ]
     },
     "execution_count": 22,
     "metadata": {},
     "output_type": "execute_result"
    }
   ],
   "source": [
    "cursos[:-1]"
   ]
  },
  {
   "cell_type": "markdown",
   "metadata": {},
   "source": [
    "# Operaciones Comunes\n",
    "Asi como estos mismos pueden ser localizados existe la posibilidad de cambiar deacuerdo a su posicion o insertar datos."
   ]
  },
  {
   "cell_type": "code",
   "execution_count": 1,
   "metadata": {},
   "outputs": [],
   "source": [
    "lista1 = [56.1,2.5,10,55,60,32.4]"
   ]
  },
  {
   "cell_type": "markdown",
   "metadata": {},
   "source": [
    "#### Para ordenar\n",
    "se utiliza el metodo .sort() de forma ascendente y .sort(reverse=True) de forma descendente."
   ]
  },
  {
   "cell_type": "code",
   "execution_count": 2,
   "metadata": {},
   "outputs": [
    {
     "name": "stdout",
     "output_type": "stream",
     "text": [
      "[2.5, 10, 32.4, 55, 56.1, 60]\n",
      "[60, 56.1, 55, 32.4, 10, 2.5]\n"
     ]
    }
   ],
   "source": [
    "lista1.sort()\n",
    "print(lista1)\n",
    "lista1.sort(reverse=True)\n",
    "print(lista1)"
   ]
  },
  {
   "cell_type": "markdown",
   "metadata": {},
   "source": [
    "#### Para encontrar los minimos y maximos\n",
    "los minimos y maximos los podremos encontrar a traves de la funcion min() y max() si estas no estan ordenadas. Si las listas ya se encuentran ordenadas podemos definir dependiendo del ordenamiento cual es la mayor y cual es la menor."
   ]
  },
  {
   "cell_type": "code",
   "execution_count": 3,
   "metadata": {},
   "outputs": [
    {
     "name": "stdout",
     "output_type": "stream",
     "text": [
      "2.5\n",
      "60\n"
     ]
    }
   ],
   "source": [
    "menor = min(lista1)\n",
    "mayor = max(lista1)\n",
    "print(menor)\n",
    "print(mayor)"
   ]
  },
  {
   "cell_type": "markdown",
   "metadata": {},
   "source": [
    "#### Para obtener la longitud\n",
    "se utiliza el metodo len()"
   ]
  },
  {
   "cell_type": "code",
   "execution_count": 4,
   "metadata": {},
   "outputs": [
    {
     "name": "stdout",
     "output_type": "stream",
     "text": [
      "6\n"
     ]
    }
   ],
   "source": [
    "cant = len(lista1)\n",
    "print(cant)"
   ]
  },
  {
   "cell_type": "markdown",
   "metadata": {},
   "source": [
    "#### Ubicar si un valor existe en la lista\n",
    "para ubicar si un valor existe en una lista puede utilizarse el metodo in. para ubicar la posicion del indice se utiliza el metodo index(). para saber cuantas veces existen el valor que se busca se puede utilizar count."
   ]
  },
  {
   "cell_type": "code",
   "execution_count": 6,
   "metadata": {},
   "outputs": [
    {
     "name": "stdout",
     "output_type": "stream",
     "text": [
      "False\n",
      "True\n"
     ]
    }
   ],
   "source": [
    "resultado = 60.1 in lista1\n",
    "print(resultado)\n",
    "resultado = 60 in lista1\n",
    "print(resultado)"
   ]
  },
  {
   "cell_type": "code",
   "execution_count": 10,
   "metadata": {},
   "outputs": [
    {
     "name": "stdout",
     "output_type": "stream",
     "text": [
      "2\n"
     ]
    }
   ],
   "source": [
    "indice = lista1.index(55)\n",
    "print(indice)"
   ]
  },
  {
   "cell_type": "markdown",
   "metadata": {},
   "source": [
    "## Matrices\n"
   ]
  },
  {
   "cell_type": "code",
   "execution_count": 11,
   "metadata": {},
   "outputs": [],
   "source": [
    "fila_1= [10, 30]\n",
    "fila_2= [20, 50]\n",
    "matriz= [fila_1,fila_2]"
   ]
  },
  {
   "cell_type": "code",
   "execution_count": 14,
   "metadata": {},
   "outputs": [
    {
     "name": "stdout",
     "output_type": "stream",
     "text": [
      "10\n"
     ]
    }
   ],
   "source": [
    "primer_elemento = matriz[0][0]\n",
    "print(primer_elemento)"
   ]
  },
  {
   "cell_type": "markdown",
   "metadata": {},
   "source": [
    "## Metodos\n",
    "* lista.count()\n",
    "* lista.append()\n",
    "* lista.insert()\n",
    "* lista.remove()\n",
    "* lista.index()\n",
    "* lista.clear()\n",
    "* lista.sort()"
   ]
  },
  {
   "cell_type": "code",
   "execution_count": null,
   "metadata": {},
   "outputs": [],
   "source": []
  }
 ],
 "metadata": {
  "kernelspec": {
   "display_name": "Python 3",
   "language": "python",
   "name": "python3"
  },
  "language_info": {
   "codemirror_mode": {
    "name": "ipython",
    "version": 3
   },
   "file_extension": ".py",
   "mimetype": "text/x-python",
   "name": "python",
   "nbconvert_exporter": "python",
   "pygments_lexer": "ipython3",
   "version": "3.7.5"
  }
 },
 "nbformat": 4,
 "nbformat_minor": 4
}
