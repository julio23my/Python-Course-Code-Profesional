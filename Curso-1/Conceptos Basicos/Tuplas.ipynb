{
 "cells": [
  {
   "cell_type": "markdown",
   "metadata": {},
   "source": [
    "# Tuplas\n",
    "\n",
    "Son parecidos a las listas. pero se diferencian en ser inmutables es decir no se pueden modificar los elementos ni agregar ni alterar. Es decir es una lista constante. Son mucho mas rapidas en obtener elementos"
   ]
  },
  {
   "cell_type": "code",
   "execution_count": 2,
   "metadata": {},
   "outputs": [],
   "source": [
    "tupla = ('julio',24,52.1,True)"
   ]
  },
  {
   "cell_type": "code",
   "execution_count": 3,
   "metadata": {},
   "outputs": [
    {
     "name": "stdout",
     "output_type": "stream",
     "text": [
      "('julio', 24, 52.1, True)\n"
     ]
    }
   ],
   "source": [
    "print(tupla)"
   ]
  },
  {
   "cell_type": "code",
   "execution_count": 4,
   "metadata": {},
   "outputs": [],
   "source": [
    "tuplas = (1,2,3,4,5,6,7,8,9,10,500)"
   ]
  },
  {
   "cell_type": "code",
   "execution_count": 8,
   "metadata": {},
   "outputs": [],
   "source": [
    "elemento = tuplas[-1]"
   ]
  },
  {
   "cell_type": "code",
   "execution_count": 9,
   "metadata": {},
   "outputs": [
    {
     "name": "stdout",
     "output_type": "stream",
     "text": [
      "500\n"
     ]
    }
   ],
   "source": [
    "print(elemento)"
   ]
  },
  {
   "cell_type": "code",
   "execution_count": 14,
   "metadata": {},
   "outputs": [
    {
     "name": "stdout",
     "output_type": "stream",
     "text": [
      "(1, 3, 5, 7, 9, 500)\n"
     ]
    }
   ],
   "source": [
    "sub = tuplas[:11:2]\n",
    "print(sub)"
   ]
  },
  {
   "cell_type": "code",
   "execution_count": 15,
   "metadata": {},
   "outputs": [
    {
     "ename": "TypeError",
     "evalue": "'tuple' object does not support item assignment",
     "output_type": "error",
     "traceback": [
      "\u001b[1;31m---------------------------------------------------------------------------\u001b[0m",
      "\u001b[1;31mTypeError\u001b[0m                                 Traceback (most recent call last)",
      "\u001b[1;32m<ipython-input-15-7fa510fb5688>\u001b[0m in \u001b[0;36m<module>\u001b[1;34m\u001b[0m\n\u001b[1;32m----> 1\u001b[1;33m \u001b[0mtupla\u001b[0m\u001b[1;33m[\u001b[0m\u001b[1;36m1\u001b[0m\u001b[1;33m]\u001b[0m\u001b[1;33m=\u001b[0m\u001b[1;36m102\u001b[0m\u001b[1;33m\u001b[0m\u001b[1;33m\u001b[0m\u001b[0m\n\u001b[0m\u001b[0;32m      2\u001b[0m \u001b[0mprint\u001b[0m\u001b[1;33m(\u001b[0m\u001b[0mtupla\u001b[0m\u001b[1;33m)\u001b[0m\u001b[1;33m\u001b[0m\u001b[1;33m\u001b[0m\u001b[0m\n",
      "\u001b[1;31mTypeError\u001b[0m: 'tuple' object does not support item assignment"
     ]
    }
   ],
   "source": [
    "tupla[1]=102\n",
    "print(tupla)"
   ]
  },
  {
   "cell_type": "code",
   "execution_count": 16,
   "metadata": {},
   "outputs": [
    {
     "name": "stdout",
     "output_type": "stream",
     "text": [
      "julio\n",
      "24\n",
      "52.1\n",
      "True\n"
     ]
    }
   ],
   "source": [
    "uno,dos,tres,cuatro = tupla\n",
    "print(uno)\n",
    "print(dos)\n",
    "print(tres)\n",
    "print(cuatro)"
   ]
  },
  {
   "cell_type": "code",
   "execution_count": 17,
   "metadata": {},
   "outputs": [
    {
     "ename": "ValueError",
     "evalue": "too many values to unpack (expected 4)",
     "output_type": "error",
     "traceback": [
      "\u001b[1;31m---------------------------------------------------------------------------\u001b[0m",
      "\u001b[1;31mValueError\u001b[0m                                Traceback (most recent call last)",
      "\u001b[1;32m<ipython-input-17-96257c7107f8>\u001b[0m in \u001b[0;36m<module>\u001b[1;34m\u001b[0m\n\u001b[1;32m----> 1\u001b[1;33m \u001b[0muno\u001b[0m\u001b[1;33m,\u001b[0m\u001b[0mdos\u001b[0m\u001b[1;33m,\u001b[0m\u001b[0mtres\u001b[0m\u001b[1;33m,\u001b[0m\u001b[0mcuatro\u001b[0m \u001b[1;33m=\u001b[0m \u001b[0mtuplas\u001b[0m\u001b[1;33m\u001b[0m\u001b[1;33m\u001b[0m\u001b[0m\n\u001b[0m\u001b[0;32m      2\u001b[0m \u001b[0mprint\u001b[0m\u001b[1;33m(\u001b[0m\u001b[0muno\u001b[0m\u001b[1;33m)\u001b[0m\u001b[1;33m\u001b[0m\u001b[1;33m\u001b[0m\u001b[0m\n\u001b[0;32m      3\u001b[0m \u001b[0mprint\u001b[0m\u001b[1;33m(\u001b[0m\u001b[0mdos\u001b[0m\u001b[1;33m)\u001b[0m\u001b[1;33m\u001b[0m\u001b[1;33m\u001b[0m\u001b[0m\n\u001b[0;32m      4\u001b[0m \u001b[0mprint\u001b[0m\u001b[1;33m(\u001b[0m\u001b[0mtres\u001b[0m\u001b[1;33m)\u001b[0m\u001b[1;33m\u001b[0m\u001b[1;33m\u001b[0m\u001b[0m\n\u001b[0;32m      5\u001b[0m \u001b[0mprint\u001b[0m\u001b[1;33m(\u001b[0m\u001b[0mcuatro\u001b[0m\u001b[1;33m)\u001b[0m\u001b[1;33m\u001b[0m\u001b[1;33m\u001b[0m\u001b[0m\n",
      "\u001b[1;31mValueError\u001b[0m: too many values to unpack (expected 4)"
     ]
    }
   ],
   "source": [
    "uno,dos,tres,cuatro = tuplas\n",
    "print(uno)\n",
    "print(dos)\n",
    "print(tres)\n",
    "print(cuatro)"
   ]
  },
  {
   "cell_type": "code",
   "execution_count": 18,
   "metadata": {},
   "outputs": [
    {
     "name": "stdout",
     "output_type": "stream",
     "text": [
      "1\n",
      "2\n",
      "3\n",
      "[4, 5, 6, 7, 8, 9, 10, 500]\n"
     ]
    }
   ],
   "source": [
    "uno,dos,tres,*cuatro = tuplas\n",
    "print(uno)\n",
    "print(dos)\n",
    "print(tres)\n",
    "print(cuatro)"
   ]
  },
  {
   "cell_type": "code",
   "execution_count": 19,
   "metadata": {},
   "outputs": [
    {
     "name": "stdout",
     "output_type": "stream",
     "text": [
      "1\n",
      "[2, 3, 4, 5, 6, 7, 8, 9]\n",
      "10\n",
      "500\n"
     ]
    }
   ],
   "source": [
    "uno,*dos,tres,cuatro = tuplas\n",
    "print(uno)\n",
    "print(dos)\n",
    "print(tres)\n",
    "print(cuatro)"
   ]
  },
  {
   "cell_type": "code",
   "execution_count": 22,
   "metadata": {},
   "outputs": [
    {
     "name": "stdout",
     "output_type": "stream",
     "text": [
      "((2, 10), (5, 20), (6, 20), (7, 30), (8, 10))\n"
     ]
    }
   ],
   "source": [
    "tupla1 = (2, 5, 6, 7, 8)\n",
    "lista = [10, 20, 20, 30, 10]\n",
    "\n",
    "resultado = zip(tupla1, lista)\n",
    "resultado = tuple(resultado)\n",
    "print(resultado)"
   ]
  },
  {
   "cell_type": "code",
   "execution_count": 23,
   "metadata": {},
   "outputs": [
    {
     "name": "stdout",
     "output_type": "stream",
     "text": [
      "[(2, 10), (5, 20), (6, 20), (7, 30), (8, 10)]\n"
     ]
    }
   ],
   "source": [
    "tupla1 = (2, 5, 6, 7, 8)\n",
    "lista = [10, 20, 20, 30, 10]\n",
    "\n",
    "resultado = zip(tupla1, lista)\n",
    "resultado = list(resultado)\n",
    "print(resultado)"
   ]
  },
  {
   "cell_type": "code",
   "execution_count": 24,
   "metadata": {},
   "outputs": [
    {
     "name": "stdout",
     "output_type": "stream",
     "text": [
      "[(2, 10, 10), (5, 20, 20), (6, 20, 30), (7, 30, 40), (8, 10, 50)]\n"
     ]
    }
   ],
   "source": [
    "tupla1 = (2, 5, 6, 7, 8)\n",
    "lista = [10, 20, 20, 30, 10]\n",
    "tupla3 = (10, 20, 30, 40, 50)\n",
    "\n",
    "resultado = zip(tupla1, lista, tupla3)\n",
    "resultado = list(resultado)\n",
    "print(resultado)"
   ]
  },
  {
   "cell_type": "markdown",
   "metadata": {},
   "source": [
    "En ciertas ocasiones tendremos la necesidad de obtener algunos elementos de nuestras tuplas, por ejemplo, teniendo la siguiente tupla.\n",
    "\n",
    "    tupla = (10, 20, 30, 40, 50)\n",
    "Necesito obtener el primero, el segundo y el último elemento; Para lograr esto tendremos un par de opciones; trabajando con índices y sin ellos. Veamos.\n",
    "\n",
    "Si trabajamos con índices podemos hacerlo lo siguiente.\n",
    "\n",
    "    primero = tupla[0]\n",
    "    segundo = tupla[1]\n",
    "    ultimo = tupla[-1]\n",
    "o simplemente podemos reducir las líneas de código y dejarlo en una sola.\n",
    "\n",
    "    primero, segundo, ultimo = tupla[0], tupla[1], tupla[-1]\n",
    "    \n",
    "La segunda opción es dejar de trabajar con las los índices y utilizar el guión bajo _.\n",
    "\n",
    "    primero, segundo, _, _, ultimo = tupla\n",
    "    \n",
    "Como observamos he colocado dos guiones bajos que hacen referencia a el número 30 y el número 40, valores que no necesitamos, por en de, no necesito almacenarlos en alguna variable; simplemente los ignoramos.\n",
    "\n",
    "Ahora, que pasa si tengo una tupla mucho más grande y nuevamente necesito obtener esos tres elementos (el primero, el segundo y el último).\n",
    "\n",
    "    tupla = (10, 20, 30, 40, 50, 60, 70, 80, 90, 100, 200, 300, 400)\n",
    "    \n",
    "Lo que podemos hacer es utilizar el guión bajo _ junto con el asterisco * y aplicar lo que hemos visto anteriormente.\n",
    "\n",
    "    primero, segundo, *_, ultimo = tupla\n",
    "    \n",
    "De esta forma podemos trabajar de una forma más eficiente con las tuplas."
   ]
  },
  {
   "cell_type": "markdown",
   "metadata": {},
   "source": [
    "# De lista a tuplas"
   ]
  },
  {
   "cell_type": "code",
   "execution_count": 25,
   "metadata": {},
   "outputs": [
    {
     "name": "stdout",
     "output_type": "stream",
     "text": [
      "['introduccion', 'basico', 'lista', 'tuplas']\n"
     ]
    }
   ],
   "source": [
    "lista = [\"Curso\",\"Python\",\"JulioCourse\"]\n",
    "tupla = (\"introduccion\",\"basico\",\"lista\",\"tuplas\")\n",
    "nueval = list(tupla)\n",
    "print(nueval)"
   ]
  },
  {
   "cell_type": "code",
   "execution_count": 26,
   "metadata": {},
   "outputs": [
    {
     "name": "stdout",
     "output_type": "stream",
     "text": [
      "('Curso', 'Python', 'JulioCourse')\n"
     ]
    }
   ],
   "source": [
    "lista = [\"Curso\",\"Python\",\"JulioCourse\"]\n",
    "tupla = (\"introduccion\",\"basico\",\"lista\",\"tuplas\")\n",
    "nuevat = tuple(lista)\n",
    "print(nuevat)"
   ]
  },
  {
   "cell_type": "code",
   "execution_count": 29,
   "metadata": {},
   "outputs": [
    {
     "name": "stdout",
     "output_type": "stream",
     "text": [
      "['E', 's', 't', 'e', ' ', 'e', 's', ' ', 'e', 'l', ' ', 'c', 'u', 'r', 's', 'o', ' ', 'd', 'e', ' ', 'p', 'y', 't', 'h', 'o', 'n']\n"
     ]
    }
   ],
   "source": [
    "mensaje = \"Este es el curso de python\"\n",
    "nueval1 = list(mensaje)\n",
    "print(nueval1)"
   ]
  },
  {
   "cell_type": "code",
   "execution_count": 30,
   "metadata": {},
   "outputs": [
    {
     "name": "stdout",
     "output_type": "stream",
     "text": [
      "('E', 's', 't', 'e', ' ', 'e', 's', ' ', 'e', 'l', ' ', 'c', 'u', 'r', 's', 'o', ' ', 'd', 'e', ' ', 'p', 'y', 't', 'h', 'o', 'n')\n"
     ]
    }
   ],
   "source": [
    "nuevat1 = tuple(mensaje)\n",
    "print(nuevat1)"
   ]
  },
  {
   "cell_type": "code",
   "execution_count": null,
   "metadata": {},
   "outputs": [],
   "source": []
  }
 ],
 "metadata": {
  "kernelspec": {
   "display_name": "Python 3",
   "language": "python",
   "name": "python3"
  },
  "language_info": {
   "codemirror_mode": {
    "name": "ipython",
    "version": 3
   },
   "file_extension": ".py",
   "mimetype": "text/x-python",
   "name": "python",
   "nbconvert_exporter": "python",
   "pygments_lexer": "ipython3",
   "version": "3.7.5"
  }
 },
 "nbformat": 4,
 "nbformat_minor": 4
}
