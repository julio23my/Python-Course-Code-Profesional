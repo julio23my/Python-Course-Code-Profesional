{
 "cells": [
  {
   "cell_type": "markdown",
   "metadata": {},
   "source": [
    "# Modulos\n",
    "\n",
    "Los modulos nos permiten reutilizar codigo de diferentes proyectos de forma organica sin necesidad de copiar y pegar codigo.\n",
    "\n",
    "Si se desea utilizar se debe importar los archivos al codigo actual como si fuera un paquete.\n",
    "\n",
    "\n",
    "# Documentar modulos en python\n",
    "\n",
    "Cuando nos encontremos trabajando con módulos, es una buena práctica de programación que nosotros documentamos estos, más aún, cuando pensamos en liberarlos.\n",
    "\n",
    "Para documentar un módulo requerimos trabajar con comentarios.\n",
    "\n",
    "\"\"\"Documentación del módulo.\n",
    "Esta es una anotación la cual debe de encontrarse\n",
    "en la parte superior de nuestro script.\n",
    "Esta anotación tiene cómo objetivo describir el módulo\"\"\"\n",
    "\n",
    "    __author__ = \"Eduardo Ismael García Pérez\"\n",
    "    __copyright__ = \"Copyright 2017, CodigoFacilito\"\n",
    "    __credits__ = [\"CodigoFacilito\", \"Rafael Alvarez\", \"Luis Enrique\"]\n",
    "    __license__ = \"GPL\"\n",
    "    __version__ = \"1.0.1\"\n",
    "    __maintainer__ = \"Team CodigoFacilito\"\n",
    "    __email__ = \"eduardo @ codigofacilito.com\"\n",
    "    __status__ = \"Production\"\n",
    "\n",
    "    def funcion_a():\n",
    "      \"\"\"Cómo sabemos podemos documentar una función de esta manera.\"\"\"\n",
    "      pass\n",
    "\n",
    "    def funcion_b():\n",
    "      \"\"\"Podemos\n",
    "        colocar\n",
    "        saltos de línea\n",
    "      \"\"\"\n",
    "      pass\n",
    "\n",
    "    def funcion_c(a=0, b=0):\n",
    "      \"\"\"Podemos dar más detalles de los parámetro\n",
    "        a -- parámetro (default 0)\n",
    "        b -- parámetro (default 0)\n",
    "      \"\"\"\n",
    "      pass\n",
    "\n",
    "    class MyModulo:\n",
    "      \"\"\"Documentación de nuestra clase\"\"\"\n",
    "\n",
    "      def metodo(self):\n",
    "        \"\"\"Documentación de nuestro método\"\"\"\n",
    "        pass\n",
    "        \n",
    "Cómo observamos nuestro script cuenta con tres funciones, una clase y su correspondiente documentación.\n",
    "\n",
    "El primer comentario es de suma importancia ya que es aquí donde describiremos al módulo, que es lo que hace, que es lo que no hace, cómo funciona, cómo usarlo, entre otras anotaciones que necesitemos colocar, posteriormente podemos colocar algunos metadatos. Los metadatos más comunes son los ocho que podemos observar, sin embargo, si nosotros lo necesitamos podemos agregar los nuestros.\n",
    "\n",
    "\n",
    "    Para que pueda considerarse un metadato debemos de colocar doble guión bajo al inicio y doble guión bajo al final.\n",
    "    \n",
    "Una vez hayamos documentado el script podemos pasar a documentar puntualmente las funciones y las clases.\n",
    "\n",
    "Si requerimos visualizar la documentación de un módulo basta con un utilizar la función help.\n",
    "\n",
    "    import mi_modulo\n",
    "    help(mi_modulo)\n",
    "    \n",
    "    \n",
    "    Para salir de la documentación basta con presionar q\n",
    "    \n",
    "    \n",
    "    \n",
    "De esta forma estaremos documentando nuestros módulos sin requerir utilizar algún software adicional."
   ]
  },
  {
   "cell_type": "markdown",
   "metadata": {},
   "source": [
    "mi_funcion()\n"
   ]
  },
  {
   "cell_type": "code",
   "execution_count": 3,
   "metadata": {},
   "outputs": [
    {
     "ename": "SyntaxError",
     "evalue": "invalid syntax (<ipython-input-3-c4a7c9ecf031>, line 1)",
     "output_type": "error",
     "traceback": [
      "\u001b[1;36m  File \u001b[1;32m\"<ipython-input-3-c4a7c9ecf031>\"\u001b[1;36m, line \u001b[1;32m1\u001b[0m\n\u001b[1;33m    mi_funcion():\u001b[0m\n\u001b[1;37m                 ^\u001b[0m\n\u001b[1;31mSyntaxError\u001b[0m\u001b[1;31m:\u001b[0m invalid syntax\n"
     ]
    }
   ],
   "source": [
    "mi_funcion():\n",
    "    pass\n",
    "\n",
    "mi_funcion()"
   ]
  },
  {
   "cell_type": "code",
   "execution_count": 4,
   "metadata": {},
   "outputs": [],
   "source": [
    "def suma(a, b=0):\n",
    "  return a+b\n",
    "\n"
   ]
  },
  {
   "cell_type": "code",
   "execution_count": 6,
   "metadata": {},
   "outputs": [
    {
     "name": "stdout",
     "output_type": "stream",
     "text": [
      "30\n"
     ]
    }
   ],
   "source": [
    "resultado = suma(10,20)\n",
    "print(resultado)"
   ]
  },
  {
   "cell_type": "code",
   "execution_count": 7,
   "metadata": {},
   "outputs": [
    {
     "name": "stdout",
     "output_type": "stream",
     "text": [
      "30\n"
     ]
    }
   ],
   "source": [
    "resultado = suma(b=10,a=20)\n",
    "print(resultado)"
   ]
  },
  {
   "cell_type": "code",
   "execution_count": 8,
   "metadata": {},
   "outputs": [
    {
     "ename": "TypeError",
     "evalue": "suma() missing 1 required positional argument: 'a'",
     "output_type": "error",
     "traceback": [
      "\u001b[1;31m---------------------------------------------------------------------------\u001b[0m",
      "\u001b[1;31mTypeError\u001b[0m                                 Traceback (most recent call last)",
      "\u001b[1;32m<ipython-input-8-a3c0d2f328fb>\u001b[0m in \u001b[0;36m<module>\u001b[1;34m\u001b[0m\n\u001b[1;32m----> 1\u001b[1;33m \u001b[0mresultado\u001b[0m \u001b[1;33m=\u001b[0m \u001b[0msuma\u001b[0m\u001b[1;33m(\u001b[0m\u001b[0mb\u001b[0m\u001b[1;33m=\u001b[0m\u001b[1;36m20\u001b[0m\u001b[1;33m)\u001b[0m\u001b[1;33m\u001b[0m\u001b[1;33m\u001b[0m\u001b[0m\n\u001b[0m\u001b[0;32m      2\u001b[0m \u001b[0mprint\u001b[0m\u001b[1;33m(\u001b[0m\u001b[0mresultado\u001b[0m\u001b[1;33m)\u001b[0m\u001b[1;33m\u001b[0m\u001b[1;33m\u001b[0m\u001b[0m\n",
      "\u001b[1;31mTypeError\u001b[0m: suma() missing 1 required positional argument: 'a'"
     ]
    }
   ],
   "source": [
    "resultado = suma(b=20)\n",
    "print(resultado)"
   ]
  },
  {
   "cell_type": "code",
   "execution_count": 23,
   "metadata": {},
   "outputs": [
    {
     "name": "stdout",
     "output_type": "stream",
     "text": [
      "Verdadero\n"
     ]
    }
   ],
   "source": [
    "resultado = \"Verdadero\" if 10 > 5 else \"Falso\"\n",
    "print(resultado)"
   ]
  },
  {
   "cell_type": "code",
   "execution_count": 15,
   "metadata": {},
   "outputs": [
    {
     "ename": "TypeError",
     "evalue": "can only concatenate str (not \"int\") to str",
     "output_type": "error",
     "traceback": [
      "\u001b[1;31m---------------------------------------------------------------------------\u001b[0m",
      "\u001b[1;31mTypeError\u001b[0m                                 Traceback (most recent call last)",
      "\u001b[1;32m<ipython-input-15-9d79ed0c5f95>\u001b[0m in \u001b[0;36m<module>\u001b[1;34m\u001b[0m\n\u001b[0;32m      1\u001b[0m \u001b[0mcasa\u001b[0m \u001b[1;33m=\u001b[0m \u001b[1;34m'casa'\u001b[0m\u001b[1;33m\u001b[0m\u001b[1;33m\u001b[0m\u001b[0m\n\u001b[1;32m----> 2\u001b[1;33m \u001b[0mcasa2\u001b[0m \u001b[1;33m=\u001b[0m \u001b[0mcasa\u001b[0m\u001b[1;33m+\u001b[0m\u001b[1;36m2\u001b[0m\u001b[1;33m\u001b[0m\u001b[1;33m\u001b[0m\u001b[0m\n\u001b[0m",
      "\u001b[1;31mTypeError\u001b[0m: can only concatenate str (not \"int\") to str"
     ]
    }
   ],
   "source": [
    "casa = 'casa'\n",
    "casa2 = casa+2"
   ]
  },
  {
   "cell_type": "code",
   "execution_count": 17,
   "metadata": {},
   "outputs": [],
   "source": [
    "\n",
    "\n",
    "def funcion():\n",
    "  return \"String\", (1,2,3), [1,2,3], None\n",
    "\n",
    "resultado = funcion()"
   ]
  },
  {
   "cell_type": "code",
   "execution_count": 19,
   "metadata": {},
   "outputs": [
    {
     "name": "stdout",
     "output_type": "stream",
     "text": [
      "<class 'tuple'>\n"
     ]
    }
   ],
   "source": [
    "print(type(resultado))"
   ]
  },
  {
   "cell_type": "code",
   "execution_count": 20,
   "metadata": {},
   "outputs": [],
   "source": [
    "lista = [1,2,4,6,9]\n"
   ]
  },
  {
   "cell_type": "code",
   "execution_count": 21,
   "metadata": {},
   "outputs": [
    {
     "ename": "SyntaxError",
     "evalue": "invalid syntax (<ipython-input-21-f869480c0e6a>, line 1)",
     "output_type": "error",
     "traceback": [
      "\u001b[1;36m  File \u001b[1;32m\"<ipython-input-21-f869480c0e6a>\"\u001b[1;36m, line \u001b[1;32m1\u001b[0m\n\u001b[1;33m    9 is in lista\u001b[0m\n\u001b[1;37m          ^\u001b[0m\n\u001b[1;31mSyntaxError\u001b[0m\u001b[1;31m:\u001b[0m invalid syntax\n"
     ]
    }
   ],
   "source": [
    "9 is in lista"
   ]
  },
  {
   "cell_type": "code",
   "execution_count": 22,
   "metadata": {},
   "outputs": [
    {
     "data": {
      "text/plain": [
       "True"
      ]
     },
     "execution_count": 22,
     "metadata": {},
     "output_type": "execute_result"
    }
   ],
   "source": [
    "9 in lista"
   ]
  },
  {
   "cell_type": "code",
   "execution_count": null,
   "metadata": {},
   "outputs": [],
   "source": [
    "1 .-\n",
    "Los strings, las tuplas y los números son objetos inmutables.\n",
    "\n",
    "2 .-\n",
    "Selecciona la característica de una tupla.\n",
    "\n",
    "3 .-\n",
    "Palabra que por convención debemos de colocar como primer parámetro para un método de clase.\n",
    "\n",
    "4 .-\n",
    "Clase de la cual heredan todas las demás clases."
   ]
  }
 ],
 "metadata": {
  "kernelspec": {
   "display_name": "Python 3",
   "language": "python",
   "name": "python3"
  },
  "language_info": {
   "codemirror_mode": {
    "name": "ipython",
    "version": 3
   },
   "file_extension": ".py",
   "mimetype": "text/x-python",
   "name": "python",
   "nbconvert_exporter": "python",
   "pygments_lexer": "ipython3",
   "version": "3.7.5"
  }
 },
 "nbformat": 4,
 "nbformat_minor": 4
}
