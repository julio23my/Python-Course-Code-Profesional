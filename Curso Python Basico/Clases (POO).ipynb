{
 "cells": [
  {
   "cell_type": "markdown",
   "metadata": {},
   "source": [
    "# Clases\n",
    "\n",
    "Una clase no es mas que la diferencia entre objetos que puedan existir a traves de sus parametros. Este no es mas que un molde con el cual podemos rellenar con las caracteristicas que se deseen del objeto. \n",
    "\n",
    "\n",
    "        clase Lapiz:\n",
    "            Tamano:\n",
    "            color:\n",
    "            punta:\n",
    "\n",
    "Una clase solo puede representar una sola cosa por lo cual deben ser bien planteadas a traves de los metodos ya existentes\n",
    "\n",
    "# Objetos\n",
    "\n",
    "Los objetos son todas las propiedades que ya conocemos acerca de los objetos en la realidad. Estos mismos tienen caracteristicas y pueden realizar acciones ya sea un lapiz o un borrador ambos tienen caracteristicas, funciones y capacidades.\n",
    "\n",
    "un objeto es una entidad que poseee caracteristicas que lo hacen diferentes a otro y puede hacer acciones.\n",
    "\n",
    "\n",
    "\n",
    "# En python\n",
    "\n",
    "Todo es un objeto desde las listas, strings, diccionarios, tuplas,etc.\n",
    "pueden ser hasta las mismas funciones.\n",
    "\n",
    "\n",
    "\n",
    "### Crear clases\n",
    "\n",
    "para la creacion de clases debemos colocar la primera letra en mayuscula para seguir una estructura."
   ]
  },
  {
   "cell_type": "code",
   "execution_count": 1,
   "metadata": {},
   "outputs": [],
   "source": [
    "class Usuario:\n",
    "    pass"
   ]
  },
  {
   "cell_type": "code",
   "execution_count": 4,
   "metadata": {},
   "outputs": [],
   "source": [
    "codi = Usuario()\n",
    "julio = Usuario()"
   ]
  },
  {
   "cell_type": "code",
   "execution_count": 6,
   "metadata": {},
   "outputs": [
    {
     "data": {
      "text/plain": [
       "__main__.Usuario"
      ]
     },
     "execution_count": 6,
     "metadata": {},
     "output_type": "execute_result"
    }
   ],
   "source": [
    "type(codi)\n",
    "type(julio)"
   ]
  },
  {
   "cell_type": "markdown",
   "metadata": {},
   "source": [
    "## Metodos\n",
    "los metodos no son mas que funciones que se encuentran dentro de las clases. Todos los metodos deben recibir un parametro. Comunmente  se utiliza self para referirse asi mismo. de igual manera esto no es obligatorio ya que solo debe existir un parametro que entre sin importar el nombre"
   ]
  },
  {
   "cell_type": "code",
   "execution_count": 11,
   "metadata": {},
   "outputs": [
    {
     "name": "stdout",
     "output_type": "stream",
     "text": [
      "Hola, soy un usuario: julio\n"
     ]
    }
   ],
   "source": [
    "class Usuario:\n",
    "    \n",
    "    def saluda(self, nombre):\n",
    "        print('Hola, soy un usuario: ' + nombre)\n",
    "\n",
    "        \n",
    "julio = Usuario()        \n",
    "julio.saluda('julio')"
   ]
  },
  {
   "cell_type": "code",
   "execution_count": 12,
   "metadata": {},
   "outputs": [
    {
     "data": {
      "text/plain": [
       "'Hola, soy un usuario: julio'"
      ]
     },
     "execution_count": 12,
     "metadata": {},
     "output_type": "execute_result"
    }
   ],
   "source": [
    "class Usuario:\n",
    "    \n",
    "    def saluda(self, nombre):\n",
    "        return 'Hola, soy un usuario: ' + nombre\n",
    "\n",
    "        \n",
    "julio = Usuario()        \n",
    "julio.saluda('julio')"
   ]
  },
  {
   "cell_type": "markdown",
   "metadata": {},
   "source": [
    "## Atributos\n",
    "\n",
    "Los atributos como ya se ha visto anteriormente son las caracteristicas que tendra la clase es decir si es tamano nombre tipo y demas. estos atributos pueden ser agregados dentro de la clase o fuera de esta misma.\n",
    "\n",
    "primeramente se mostrara fuera de la clase como se puede realizar una adicion de atributos y mostrarla."
   ]
  },
  {
   "cell_type": "code",
   "execution_count": 14,
   "metadata": {},
   "outputs": [],
   "source": [
    "#Fuera de la clase\n",
    "class Usuario:\n",
    "    \n",
    "    def saluda(self, nombre):\n",
    "        return 'Hola, soy un usuario: ' + nombre\n",
    "    \n",
    "        \n",
    "julio = Usuario() \n",
    "julio.username = 'julio23'\n",
    "julio.correo = 'julio23m.y@gmail.com'\n"
   ]
  },
  {
   "cell_type": "code",
   "execution_count": 15,
   "metadata": {},
   "outputs": [
    {
     "name": "stdout",
     "output_type": "stream",
     "text": [
      "julio23\n"
     ]
    }
   ],
   "source": [
    "#Fuera de la clase\n",
    "class Usuario:\n",
    "    \n",
    "    def saluda(self, nombre):\n",
    "        return 'Hola, soy un usuario: ' + nombre\n",
    "    def mostrar_username(self):\n",
    "        print(self.username)\n",
    "        \n",
    "julio = Usuario() \n",
    "julio.username = 'julio23'\n",
    "julio.correo = 'julio23m.y@gmail.com'\n",
    "\n",
    "julio.mostrar_username()"
   ]
  },
  {
   "cell_type": "code",
   "execution_count": 19,
   "metadata": {},
   "outputs": [
    {
     "name": "stdout",
     "output_type": "stream",
     "text": [
      "Julio Moreno\n"
     ]
    }
   ],
   "source": [
    "# Crear atributos dentro de la clase a traves de un metodo\n",
    "class Usuario:\n",
    "    \n",
    "    def saluda(self, nombre):\n",
    "        return 'Hola, soy un usuario: ' + nombre\n",
    "    def mostrar_username(self):\n",
    "        print(self.username)\n",
    "        \n",
    "    def mostrar_nombre(self):\n",
    "        print(self.nombre)\n",
    "        \n",
    "    def crear_nombre(self, nombre):\n",
    "        self.nombre = nombre\n",
    "        \n",
    "        \n",
    "julio = Usuario() \n",
    "julio.username = 'julio23'\n",
    "julio.correo = 'julio23m.y@gmail.com'\n",
    "\n",
    "julio.crear_nombre('Julio Moreno')\n",
    "julio.mostrar_nombre()"
   ]
  },
  {
   "cell_type": "code",
   "execution_count": 20,
   "metadata": {},
   "outputs": [
    {
     "data": {
      "text/plain": [
       "'Hola, soy un usuario: '"
      ]
     },
     "execution_count": 20,
     "metadata": {},
     "output_type": "execute_result"
    }
   ],
   "source": [
    "# Init con esto nos evitaremos las asignaciones anteriores\n",
    "class Usuario:\n",
    "    \n",
    "    def __init__(self):\n",
    "        self.username = ''\n",
    "        self.correo = ''\n",
    "        self.nombre = ''\n",
    "    \n",
    "    def saluda(self):\n",
    "        return 'Hola, soy un usuario: ' + self.nombre\n",
    "    def mostrar_username(self):\n",
    "        print(self.username)\n",
    "        \n",
    "    def mostrar_nombre(self):\n",
    "        print(self.nombre)\n",
    "        \n",
    "        \n",
    "julio = Usuario() \n",
    "\n",
    "julio.saluda()"
   ]
  },
  {
   "cell_type": "code",
   "execution_count": 21,
   "metadata": {},
   "outputs": [
    {
     "data": {
      "text/plain": [
       "'Hola, soy un usuario: '"
      ]
     },
     "execution_count": 21,
     "metadata": {},
     "output_type": "execute_result"
    }
   ],
   "source": [
    "class Usuario:\n",
    "    \n",
    "    def __init__(self, username='', correo='', nombre=''):\n",
    "        self.username = username\n",
    "        self.correo = correo\n",
    "        self.nombre = nombre\n",
    "    \n",
    "    def saluda(self):\n",
    "        return 'Hola, soy un usuario: ' + self.nombre\n",
    "    def mostrar_username(self):\n",
    "        print(self.username)\n",
    "        \n",
    "    def mostrar_nombre(self):\n",
    "        print(self.nombre)\n",
    "        \n",
    "        \n",
    "julio = Usuario() \n",
    "\n",
    "julio.saluda()"
   ]
  },
  {
   "cell_type": "code",
   "execution_count": 22,
   "metadata": {},
   "outputs": [
    {
     "data": {
      "text/plain": [
       "'Hola, soy un usuario: Julio Moreno'"
      ]
     },
     "execution_count": 22,
     "metadata": {},
     "output_type": "execute_result"
    }
   ],
   "source": [
    "class Usuario:\n",
    "    \n",
    "    def __init__(self, username='', correo='', nombre=''):\n",
    "        self.username = username\n",
    "        self.correo = correo\n",
    "        self.nombre = nombre\n",
    "    \n",
    "    def saluda(self):\n",
    "        return 'Hola, soy un usuario: ' + self.nombre\n",
    "    def mostrar_username(self):\n",
    "        print(self.username)\n",
    "        \n",
    "    def mostrar_nombre(self):\n",
    "        print(self.nombre)\n",
    "        \n",
    "        \n",
    "julio = Usuario('Julio23','julio23m.y@gmail.com','Julio Moreno') \n",
    "\n",
    "julio.saluda()"
   ]
  },
  {
   "cell_type": "markdown",
   "metadata": {},
   "source": [
    "## Tipos de Atributos\n",
    "\n",
    "en nuestras clases podemos tener dos tipos, las variables de clase y las variables de instancias.\n",
    "\n",
    "instancia: son variables que le pertenecen a la instancia y son independietnes a cada una de ellas\n",
    "\n",
    "clase: las variables de clase le pertenecen enteramente a las clases y pueden ser utilizadas por instancias."
   ]
  },
  {
   "cell_type": "code",
   "execution_count": 23,
   "metadata": {},
   "outputs": [
    {
     "name": "stdout",
     "output_type": "stream",
     "text": [
      "10\n",
      "20\n"
     ]
    }
   ],
   "source": [
    "class Circulo:\n",
    "    \n",
    "    def __init__(self, radio):\n",
    "        self.radio = radio\n",
    "        \n",
    "circulo_a= Circulo(10)\n",
    "circulo_b= Circulo(20)\n",
    "\n",
    "print(circulo_a.radio)\n",
    "print(circulo_b.radio)"
   ]
  },
  {
   "cell_type": "code",
   "execution_count": 24,
   "metadata": {},
   "outputs": [
    {
     "name": "stdout",
     "output_type": "stream",
     "text": [
      "10\n",
      "100\n"
     ]
    }
   ],
   "source": [
    "class Circulo:\n",
    "    \n",
    "    def __init__(self, radio):\n",
    "        self.radio = radio # es una variable de instancia\n",
    "        \n",
    "circulo_a= Circulo(10)\n",
    "circulo_b= Circulo(20)\n",
    "circulo_b.radio = 100\n",
    "\n",
    "print(circulo_a.radio)\n",
    "print(circulo_b.radio)"
   ]
  },
  {
   "cell_type": "code",
   "execution_count": 25,
   "metadata": {},
   "outputs": [
    {
     "name": "stdout",
     "output_type": "stream",
     "text": [
      "3.14159265\n",
      "3.14159265\n"
     ]
    }
   ],
   "source": [
    "\n",
    "\n",
    "class Circulo:\n",
    "    pi = 3.14159265 # es una variable de clase\n",
    "    def __init__(self, radio):\n",
    "        self.radio = radio # es una variable de instancia\n",
    "        \n",
    "circulo_a= Circulo(10)\n",
    "circulo_b= Circulo(20)\n",
    "circulo_b.radio = 100\n",
    "\n",
    "print(circulo_a.pi)\n",
    "print(circulo_b.pi)"
   ]
  },
  {
   "cell_type": "code",
   "execution_count": 26,
   "metadata": {},
   "outputs": [
    {
     "name": "stdout",
     "output_type": "stream",
     "text": [
      "3.14159265\n"
     ]
    }
   ],
   "source": [
    "print(Circulo.pi)"
   ]
  },
  {
   "cell_type": "markdown",
   "metadata": {},
   "source": [
    "## Metodos Estaticos\n",
    "\n",
    "en el caso que se quiera evaluar una gran cantidad de datos o se tenga en mente algo practico al momento de evaluar se utilizan los metodos estaticos"
   ]
  },
  {
   "cell_type": "code",
   "execution_count": 27,
   "metadata": {},
   "outputs": [
    {
     "data": {
      "text/plain": [
       "150.0"
      ]
     },
     "execution_count": 27,
     "metadata": {},
     "output_type": "execute_result"
    }
   ],
   "source": [
    "# Esto no es practico\n",
    "class Triangulo:\n",
    "    def area(self):\n",
    "        return( self.base * self.altura) / 2\n",
    "    \n",
    "    \n",
    "triangulo = Triangulo()\n",
    "triangulo.base = 10\n",
    "triangulo.altura = 30\n",
    "triangulo.area()"
   ]
  },
  {
   "cell_type": "code",
   "execution_count": 30,
   "metadata": {},
   "outputs": [
    {
     "data": {
      "text/plain": [
       "150.0"
      ]
     },
     "execution_count": 30,
     "metadata": {},
     "output_type": "execute_result"
    }
   ],
   "source": [
    "# Este si es practico\n",
    "class Triangulo:\n",
    "    @staticmethod\n",
    "    def area(base, altura):\n",
    "        return(base * altura) / 2\n",
    "    \n",
    "    \n",
    "Triangulo.area(10,30)"
   ]
  },
  {
   "cell_type": "code",
   "execution_count": 31,
   "metadata": {},
   "outputs": [
    {
     "data": {
      "text/plain": [
       "150.0"
      ]
     },
     "execution_count": 31,
     "metadata": {},
     "output_type": "execute_result"
    }
   ],
   "source": [
    "# Este si es practico\n",
    "class Triangulo:\n",
    "    numero = 2\n",
    "    @staticmethod\n",
    "    def area(base, altura):\n",
    "        return(base * altura) / Triangulo.numero\n",
    "    \n",
    "    \n",
    "Triangulo.area(10,30)"
   ]
  },
  {
   "cell_type": "markdown",
   "metadata": {},
   "source": [
    "## Metodos de clase\n",
    "\n",
    "se utilizan al tener que usar variables de clase"
   ]
  },
  {
   "cell_type": "code",
   "execution_count": 33,
   "metadata": {},
   "outputs": [
    {
     "data": {
      "text/plain": [
       "314.159265"
      ]
     },
     "execution_count": 33,
     "metadata": {},
     "output_type": "execute_result"
    }
   ],
   "source": [
    "class Circulo:\n",
    "    pi = 3.14159265\n",
    "    \n",
    "    @classmethod\n",
    "    def area(cls, radio):\n",
    "        return cls.pi*radio**2\n",
    "    \n",
    "Circulo.area(10)"
   ]
  },
  {
   "cell_type": "markdown",
   "metadata": {},
   "source": [
    "## Herencia\n",
    "nos permitira crear clases de clases ya existentes. Es una forma de reutilizar y reducir nuestro codigo.\n"
   ]
  },
  {
   "cell_type": "code",
   "execution_count": 34,
   "metadata": {},
   "outputs": [],
   "source": [
    "class Animal:\n",
    "    def comer(self):\n",
    "        print('Comiendo')\n",
    "        \n",
    "    def dormir(self):\n",
    "        print('Duermiendo')\n",
    "        \n",
    "        \n",
    "class Perro:\n",
    "    def __init__(self, nombre):\n",
    "        self.nombre = nombre\n",
    "        \n",
    "    def ladrar(self):\n",
    "        print('ladrando')"
   ]
  },
  {
   "cell_type": "code",
   "execution_count": 35,
   "metadata": {},
   "outputs": [],
   "source": [
    "#opcion 1\n",
    "\n",
    "class Animal:\n",
    "    def comer(self):\n",
    "        print('Comiendo')\n",
    "        \n",
    "    def dormir(self):\n",
    "        print('Duermiendo')\n",
    "        \n",
    "        \n",
    "class Perro:\n",
    "    def __init__(self, nombre):\n",
    "        self.nombre = nombre\n",
    "        \n",
    "    def ladrar(self):\n",
    "        print('ladrando')\n",
    "        \n",
    "    def comer(self):\n",
    "        print('Comiendo')\n",
    "        \n",
    "    def dormir(self):\n",
    "        print('Duermiendo')"
   ]
  },
  {
   "cell_type": "code",
   "execution_count": 36,
   "metadata": {},
   "outputs": [],
   "source": [
    "#opcion 2 Mejor sin codigo duplicado con herencia\n",
    "\n",
    "class Animal:\n",
    "    def comer(self):\n",
    "        print('Comiendo')\n",
    "        \n",
    "    def dormir(self):\n",
    "        print('Duermiendo')\n",
    "        \n",
    "        \n",
    "class Perro(Animal): # Animal ahora es la clase padre\n",
    "    def __init__(self, nombre):\n",
    "        self.nombre = nombre\n",
    "        \n",
    "    def ladrar(self):\n",
    "        print('ladrando')\n",
    "diana = Perro('Diana')"
   ]
  },
  {
   "cell_type": "code",
   "execution_count": 37,
   "metadata": {},
   "outputs": [
    {
     "name": "stdout",
     "output_type": "stream",
     "text": [
      "Comiendo\n"
     ]
    }
   ],
   "source": [
    "diana.comer()"
   ]
  },
  {
   "cell_type": "code",
   "execution_count": 38,
   "metadata": {},
   "outputs": [
    {
     "name": "stdout",
     "output_type": "stream",
     "text": [
      "Duermiendo\n"
     ]
    }
   ],
   "source": [
    "diana.dormir()"
   ]
  },
  {
   "cell_type": "code",
   "execution_count": 40,
   "metadata": {},
   "outputs": [
    {
     "name": "stdout",
     "output_type": "stream",
     "text": [
      "ladrando\n"
     ]
    }
   ],
   "source": [
    "diana.ladrar()"
   ]
  },
  {
   "cell_type": "code",
   "execution_count": 42,
   "metadata": {},
   "outputs": [],
   "source": [
    "#opcion 2 Mejor sin codigo duplicado con herencia\n",
    "\n",
    "class Animal:\n",
    "    def comer(self):\n",
    "        print('Comiendo')\n",
    "        \n",
    "    def dormir(self):\n",
    "        print('Duermiendo')\n",
    "        \n",
    "        \n",
    "class Perro(Animal): # Animal ahora es la clase padre\n",
    "    def __init__(self, nombre):\n",
    "        self.nombre = nombre\n",
    "        \n",
    "    def ladrar(self):\n",
    "        print('ladrando')\n",
    "        \n",
    "class Gato(Animal):\n",
    "    def ronroneo(self):\n",
    "        print('ronroneo')\n",
    "diana = Perro('Diana')\n",
    "sirius = Gato()"
   ]
  },
  {
   "cell_type": "code",
   "execution_count": 43,
   "metadata": {},
   "outputs": [
    {
     "name": "stdout",
     "output_type": "stream",
     "text": [
      "Comiendo\n"
     ]
    }
   ],
   "source": [
    "sirius.comer()"
   ]
  },
  {
   "cell_type": "code",
   "execution_count": 44,
   "metadata": {},
   "outputs": [
    {
     "name": "stdout",
     "output_type": "stream",
     "text": [
      "Duermiendo\n"
     ]
    }
   ],
   "source": [
    "sirius.dormir()"
   ]
  },
  {
   "cell_type": "code",
   "execution_count": 46,
   "metadata": {},
   "outputs": [
    {
     "name": "stdout",
     "output_type": "stream",
     "text": [
      "ronroneo\n"
     ]
    }
   ],
   "source": [
    "sirius.ronroneo()"
   ]
  },
  {
   "cell_type": "markdown",
   "metadata": {},
   "source": [
    "## Herencia multiple\n"
   ]
  },
  {
   "cell_type": "code",
   "execution_count": 56,
   "metadata": {},
   "outputs": [
    {
     "data": {
      "text/plain": [
       "'Hoy'"
      ]
     },
     "execution_count": 56,
     "metadata": {},
     "output_type": "execute_result"
    }
   ],
   "source": [
    "class Animal:\n",
    "    def comer(self):\n",
    "        print('Comiendo')\n",
    "        \n",
    "    def dormir(self):\n",
    "        print('Duermiendo')\n",
    "\n",
    "        \n",
    "class Mascota:\n",
    "    def fech_adopcion(self, fecha):\n",
    "        self.fecha_adopcion = fecha\n",
    "        \n",
    "class Perro(Animal, Mascota): \n",
    "    def __init__(self, nombre):\n",
    "        self.nombre = nombre\n",
    "        \n",
    "    def ladrar(self):\n",
    "        print('ladrando')\n",
    "        \n",
    "class Gato(Animal):\n",
    "    def ronroneo(self):\n",
    "        print('ronroneo')\n",
    "diana = Perro('Diana')\n",
    "sirius = Gato()\n",
    "diana.fech_adopcion(\"Hoy\")\n",
    "diana.fecha_adopcion"
   ]
  },
  {
   "cell_type": "code",
   "execution_count": 60,
   "metadata": {},
   "outputs": [
    {
     "name": "stdout",
     "output_type": "stream",
     "text": [
      "este es un metodo perro\n"
     ]
    }
   ],
   "source": [
    "class Animal:\n",
    "    def comer(self):\n",
    "        print('Comiendo')\n",
    "        \n",
    "    def dormir(self):\n",
    "        print('Duermiendo')\n",
    "    def comun(self):\n",
    "        print('este es un metodo animal')\n",
    "\n",
    "        \n",
    "class Mascota:\n",
    "    def fech_adopcion(self, fecha):\n",
    "        self.fecha_adopcion = fecha\n",
    "    def comun(self):\n",
    "        print('este es un metodo Mascota')\n",
    "class Perro(Animal, Mascota): \n",
    "    def __init__(self, nombre):\n",
    "        self.nombre = nombre\n",
    "        \n",
    "    def ladrar(self):\n",
    "        print('ladrando')\n",
    "        \n",
    "    def comun(self):\n",
    "        print('este es un metodo perro')\n",
    "        \n",
    "class Gato(Animal):\n",
    "    def ronroneo(self):\n",
    "        print('ronroneo')\n",
    "diana = Perro('Diana')\n",
    "sirius = Gato()\n",
    "diana.fech_adopcion(\"Hoy\")\n",
    "diana.comun()"
   ]
  },
  {
   "cell_type": "code",
   "execution_count": 62,
   "metadata": {},
   "outputs": [
    {
     "name": "stdout",
     "output_type": "stream",
     "text": [
      "este es un metodo animal\n"
     ]
    }
   ],
   "source": [
    "class Animal:\n",
    "    def comer(self):\n",
    "        print('Comiendo')\n",
    "        \n",
    "    def dormir(self):\n",
    "        print('Duermiendo')\n",
    "    def comun(self):\n",
    "        print('este es un metodo animal')\n",
    "\n",
    "        \n",
    "class Mascota:\n",
    "    def fech_adopcion(self, fecha):\n",
    "        self.fecha_adopcion = fecha\n",
    "    def comun(self):\n",
    "        print('este es un metodo Mascota')\n",
    "class Perro(Animal, Mascota): \n",
    "    def __init__(self, nombre):\n",
    "        self.nombre = nombre\n",
    "        \n",
    "    def ladrar(self):\n",
    "        print('ladrando')\n",
    "        \n",
    "    \n",
    "        \n",
    "class Gato(Animal):\n",
    "    def ronroneo(self):\n",
    "        print('ronroneo')\n",
    "diana = Perro('Diana')\n",
    "sirius = Gato()\n",
    "diana.fech_adopcion(\"Hoy\")\n",
    "diana.comun()"
   ]
  },
  {
   "cell_type": "code",
   "execution_count": 63,
   "metadata": {},
   "outputs": [
    {
     "name": "stdout",
     "output_type": "stream",
     "text": [
      "este es un metodo Mascota\n"
     ]
    }
   ],
   "source": [
    "class Animal:\n",
    "    def comer(self):\n",
    "        print('Comiendo')\n",
    "        \n",
    "    def dormir(self):\n",
    "        print('Duermiendo')\n",
    "    \n",
    "\n",
    "        \n",
    "class Mascota:\n",
    "    def fech_adopcion(self, fecha):\n",
    "        self.fecha_adopcion = fecha\n",
    "    def comun(self):\n",
    "        print('este es un metodo Mascota')\n",
    "class Perro(Animal, Mascota): \n",
    "    def __init__(self, nombre):\n",
    "        self.nombre = nombre\n",
    "        \n",
    "    def ladrar(self):\n",
    "        print('ladrando')\n",
    "        \n",
    "    \n",
    "        \n",
    "class Gato(Animal):\n",
    "    def ronroneo(self):\n",
    "        print('ronroneo')\n",
    "diana = Perro('Diana')\n",
    "sirius = Gato()\n",
    "diana.fech_adopcion(\"Hoy\")\n",
    "diana.comun()"
   ]
  },
  {
   "cell_type": "markdown",
   "metadata": {},
   "source": [
    "## Sobre Escritura de metodos\n",
    " "
   ]
  },
  {
   "cell_type": "code",
   "execution_count": 65,
   "metadata": {},
   "outputs": [
    {
     "name": "stdout",
     "output_type": "stream",
     "text": [
      "Duermiendo\n"
     ]
    }
   ],
   "source": [
    "class Animal:\n",
    "    def comer(self):\n",
    "        print('Comiendo')\n",
    "        \n",
    "    def dormir(self):\n",
    "        print('Duermiendo')\n",
    "    \n",
    "\n",
    "        \n",
    "class Mascota:\n",
    "    def fech_adopcion(self, fecha):\n",
    "        self.fecha_adopcion = fecha\n",
    "    def comun(self):\n",
    "        print('este es un metodo Mascota')\n",
    "class Perro(Animal, Mascota): \n",
    "    def __init__(self, nombre):\n",
    "        self.nombre = nombre\n",
    "        \n",
    "    def ladrar(self):\n",
    "        print('ladrando')\n",
    "        \n",
    "    \n",
    "        \n",
    "class Gato(Animal):\n",
    "    def ronroneo(self):\n",
    "        print('ronroneo')\n",
    "diana = Perro('Diana')\n",
    "diana.dormir()"
   ]
  },
  {
   "cell_type": "code",
   "execution_count": 67,
   "metadata": {},
   "outputs": [
    {
     "name": "stdout",
     "output_type": "stream",
     "text": [
      "Diana Esta durmiendo\n",
      "Duermiendo\n",
      "No molestar\n"
     ]
    }
   ],
   "source": [
    "class Animal:\n",
    "    def comer(self):\n",
    "        print('Comiendo')\n",
    "        \n",
    "    def dormir(self):\n",
    "        print('Duermiendo')\n",
    "    \n",
    "\n",
    "        \n",
    "class Mascota:\n",
    "    def fech_adopcion(self, fecha):\n",
    "        self.fecha_adopcion = fecha\n",
    "    def comun(self):\n",
    "        print('este es un metodo Mascota')\n",
    "class Perro(Animal, Mascota): \n",
    "    def __init__(self, nombre):\n",
    "        self.nombre = nombre\n",
    "        \n",
    "    def ladrar(self):\n",
    "        print('ladrando')\n",
    "    def dormir(self):\n",
    "        print(self.nombre, 'Esta durmiendo')\n",
    "        Animal.dormir(self)\n",
    "        print('No molestar')\n",
    "    \n",
    "        \n",
    "class Gato(Animal):\n",
    "    def ronroneo(self):\n",
    "        print('ronroneo')\n",
    "        \n",
    "        \n",
    "diana = Perro('Diana')\n",
    "diana.dormir()"
   ]
  },
  {
   "cell_type": "markdown",
   "metadata": {},
   "source": [
    "# Clase object\n",
    "\n",
    "Todas las clases en las que nosotros creemos estaran heredando de una clase en comun. Existiendo dos formas de crear una clase siendo la que ya hemos visto pero la otra no varia mucho ya que hereda object. Sin embargo en ambos casos las dos clases se encuentran herando de la clase object. Esta cuenta con atributos y metodos uqe podemos identificar facilmente con los guines bajos __init__ el atributo dict nos indica informacion de nuestro objeto"
   ]
  },
  {
   "cell_type": "code",
   "execution_count": 69,
   "metadata": {},
   "outputs": [
    {
     "name": "stdout",
     "output_type": "stream",
     "text": [
      "<__main__.Pato object at 0x00000266E5240A08>\n",
      "<__main__.Gato object at 0x00000266E5240988>\n"
     ]
    }
   ],
   "source": [
    "# Se vizualizara la memoria de los objetos\n",
    "class Gato():\n",
    "    def __init__(self, nombre):\n",
    "        self.nombre = nombre\n",
    "class Pato(object):\n",
    "    def __init__(self, nombre):\n",
    "        self.nombre = nombre\n",
    "        \n",
    "        \n",
    "gato = Gato('Snow')\n",
    "pato = Pato('Donald')\n",
    "print(pato)\n",
    "print(gato)"
   ]
  },
  {
   "cell_type": "code",
   "execution_count": 70,
   "metadata": {},
   "outputs": [
    {
     "name": "stdout",
     "output_type": "stream",
     "text": [
      "Donald\n",
      "Snow\n"
     ]
    }
   ],
   "source": [
    "class Gato():\n",
    "    def __init__(self, nombre):\n",
    "        self.nombre = nombre\n",
    "        \n",
    "    def __str__(self):\n",
    "        return self.nombre\n",
    "class Pato(object):\n",
    "    def __init__(self, nombre):\n",
    "        self.nombre = nombre\n",
    "    def __str__(self):\n",
    "        return self.nombre\n",
    "        \n",
    "        \n",
    "gato = Gato('Snow')\n",
    "pato = Pato('Donald')\n",
    "print(pato)\n",
    "print(gato)"
   ]
  },
  {
   "cell_type": "code",
   "execution_count": 71,
   "metadata": {},
   "outputs": [
    {
     "name": "stdout",
     "output_type": "stream",
     "text": [
      "{'nombre': 'Donald'}\n",
      "{'nombre': 'Snow'}\n"
     ]
    }
   ],
   "source": [
    "class Gato():\n",
    "    def __init__(self, nombre):\n",
    "        self.nombre = nombre\n",
    "        \n",
    "    def __str__(self):\n",
    "        return self.nombre\n",
    "class Pato(object):\n",
    "    def __init__(self, nombre):\n",
    "        self.nombre = nombre\n",
    "    def __str__(self):\n",
    "        return self.nombre\n",
    "        \n",
    "        \n",
    "gato = Gato('Snow')\n",
    "pato = Pato('Donald')\n",
    "print(pato.__dict__)\n",
    "print(gato.__dict__)"
   ]
  },
  {
   "cell_type": "code",
   "execution_count": 72,
   "metadata": {},
   "outputs": [
    {
     "name": "stdout",
     "output_type": "stream",
     "text": [
      "{'nombre': 'Donald'}\n",
      "{'nombre': 'Snow', 'edad': 6}\n"
     ]
    }
   ],
   "source": [
    "class Gato():\n",
    "    def __init__(self, nombre):\n",
    "        self.nombre = nombre\n",
    "        \n",
    "    def __str__(self):\n",
    "        return self.nombre\n",
    "class Pato(object):\n",
    "    def __init__(self, nombre):\n",
    "        self.nombre = nombre\n",
    "    def __str__(self):\n",
    "        return self.nombre\n",
    "        \n",
    "        \n",
    "gato = Gato('Snow')\n",
    "gato.edad = 6\n",
    "pato = Pato('Donald')\n",
    "print(pato.__dict__)\n",
    "print(gato.__dict__)"
   ]
  },
  {
   "cell_type": "code",
   "execution_count": null,
   "metadata": {},
   "outputs": [],
   "source": []
  }
 ],
 "metadata": {
  "kernelspec": {
   "display_name": "Python 3",
   "language": "python",
   "name": "python3"
  },
  "language_info": {
   "codemirror_mode": {
    "name": "ipython",
    "version": 3
   },
   "file_extension": ".py",
   "mimetype": "text/x-python",
   "name": "python",
   "nbconvert_exporter": "python",
   "pygments_lexer": "ipython3",
   "version": "3.7.5"
  }
 },
 "nbformat": 4,
 "nbformat_minor": 4
}
