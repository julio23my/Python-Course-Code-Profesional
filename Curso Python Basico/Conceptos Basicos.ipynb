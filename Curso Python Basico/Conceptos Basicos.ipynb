{
 "cells": [
  {
   "cell_type": "markdown",
   "metadata": {},
   "source": [
    "# Declaracion de Variables"
   ]
  },
  {
   "cell_type": "markdown",
   "metadata": {},
   "source": [
    "Las variables son representadas a traves de un nombre, el lenguaje python diferenciara mayusculas de minusculas, estas deben ser declaradas a traves de una nomenclatura y puede tener numeros."
   ]
  },
  {
   "cell_type": "code",
   "execution_count": 1,
   "metadata": {},
   "outputs": [],
   "source": [
    "profesor_nombre = \"Julio\""
   ]
  },
  {
   "cell_type": "code",
   "execution_count": 2,
   "metadata": {},
   "outputs": [
    {
     "name": "stdout",
     "output_type": "stream",
     "text": [
      "Julio\n"
     ]
    }
   ],
   "source": [
    "print(profesor_nombre)"
   ]
  },
  {
   "cell_type": "code",
   "execution_count": 3,
   "metadata": {},
   "outputs": [
    {
     "name": "stdout",
     "output_type": "stream",
     "text": [
      "JulioMoreno\n"
     ]
    }
   ],
   "source": [
    "profesor_apellido = \"Moreno\"\n",
    "profesor = profesor_nombre + profesor_apellido\n",
    "print(profesor)"
   ]
  },
  {
   "cell_type": "markdown",
   "metadata": {},
   "source": [
    "### En python las constantes no existen"
   ]
  },
  {
   "cell_type": "markdown",
   "metadata": {},
   "source": [
    "En python las constantes no existen, por lo cual si se desea utilizar una constante debe tener una nomenclatura diferente y esta misma no sera cambiada a lo largo del codigo por los programadores."
   ]
  },
  {
   "cell_type": "markdown",
   "metadata": {},
   "source": [
    "### Nombres que no se pueden utilizar"
   ]
  },
  {
   "cell_type": "markdown",
   "metadata": {},
   "source": [
    "| Variables que no se pueden utilizar|\n",
    "| ----------------------------------- \n",
    "| False\t\n",
    "| await \n",
    "| else \n",
    "| import\t\n",
    "| pass\n",
    "| None\t\n",
    "| break\t\n",
    "| except\t\n",
    "| in\t\n",
    "| raise\n",
    "| True\t\n",
    "| class\t\n",
    "| finally\t\n",
    "| is\t\n",
    "| return\n",
    "| and\t\n",
    "| continue\t\n",
    "| for\t\n",
    "| lambda\t\n",
    "| try\n",
    "| as\t\n",
    "| def\t\n",
    "| from\t\n",
    "| nonlocal\t\n",
    "| while\n",
    "| assert\n",
    "| del\t\n",
    "| global\t\n",
    "| not\t\n",
    "| with\n",
    "| async\t\n",
    "| elif\t\n",
    "| if\n",
    "| or\n",
    "| yield"
   ]
  },
  {
   "cell_type": "markdown",
   "metadata": {},
   "source": [
    "## Declaracion Multiple"
   ]
  },
  {
   "cell_type": "markdown",
   "metadata": {},
   "source": [
    "La asignacion de variables puede realizarse de manera multiple es decir en una misma linea se pueden crear multiples variables. Ya sea que tengan el mismo valor o distintos, asi como tambien de diversos tipos. Declarandose de la siguiente manera"
   ]
  },
  {
   "cell_type": "code",
   "execution_count": 4,
   "metadata": {},
   "outputs": [],
   "source": [
    "valor_1, valor_dos, valor_3 = 16,'Julio',23.5*5"
   ]
  },
  {
   "cell_type": "code",
   "execution_count": 5,
   "metadata": {},
   "outputs": [
    {
     "name": "stdout",
     "output_type": "stream",
     "text": [
      "16\n",
      "Julio\n",
      "117.5\n"
     ]
    }
   ],
   "source": [
    "print(valor_1)\n",
    "print(valor_dos)\n",
    "print(valor_3)"
   ]
  },
  {
   "cell_type": "markdown",
   "metadata": {},
   "source": [
    "# Operadores relacionales y logicos"
   ]
  },
  {
   "cell_type": "markdown",
   "metadata": {},
   "source": [
    "Los operadores relacionales son simbolos para poder comparar dos valores y tener devuelta una respuesta verdadera o falsa (True o False) siendo este un valor booleano.\n",
    "\n",
    "Operadores relacionales:\n",
    "* Mayor >\n",
    "* Menor <\n",
    "* Mayor igual >=\n",
    "* Menor igual <=\n",
    "* Igual == tambien puede colarse como is\n",
    "* Diferente !="
   ]
  },
  {
   "cell_type": "code",
   "execution_count": 6,
   "metadata": {},
   "outputs": [
    {
     "name": "stdout",
     "output_type": "stream",
     "text": [
      "True\n",
      "False\n",
      "True\n",
      "False\n",
      "False\n",
      "True\n"
     ]
    }
   ],
   "source": [
    "variable_1 = 23\n",
    "variable_2 = 10\n",
    "\n",
    "mayor = variable_1 > variable_2\n",
    "menor = variable_1 < variable_2\n",
    "mayor_igual = variable_1 >= variable_2\n",
    "menor_igual = variable_1 <= variable_2\n",
    "igual = variable_1 == variable_2\n",
    "diferente = variable_1 != variable_2\n",
    "\n",
    "print(mayor)\n",
    "print(menor)\n",
    "print(mayor_igual)\n",
    "print(menor_igual)\n",
    "print(igual)\n",
    "print(diferente)"
   ]
  },
  {
   "cell_type": "markdown",
   "metadata": {},
   "source": [
    "## Operadores Logicos\n",
    "Los operadores logicos son 3. obteniendo tambien una salida de tipo booleando. utilizado como condicion.\n",
    "* AND: todas las comparaciones deben ser verdaderas para que devuelva True o proceda\n",
    "* OR: una de las comparaciones debe ser verdadero para que devuelva True o proceda\n",
    "* NOT: dara como resultado lo contrario a lo estipulado si espera que su salida sea False devolvera True."
   ]
  },
  {
   "cell_type": "code",
   "execution_count": 7,
   "metadata": {},
   "outputs": [
    {
     "name": "stdout",
     "output_type": "stream",
     "text": [
      "True\n"
     ]
    }
   ],
   "source": [
    "resultado = True and True and diferente\n",
    "print(resultado)"
   ]
  },
  {
   "cell_type": "code",
   "execution_count": 8,
   "metadata": {},
   "outputs": [
    {
     "name": "stdout",
     "output_type": "stream",
     "text": [
      "False\n"
     ]
    }
   ],
   "source": [
    "resultado = True and True and menor\n",
    "print(resultado)"
   ]
  },
  {
   "cell_type": "code",
   "execution_count": 9,
   "metadata": {},
   "outputs": [
    {
     "name": "stdout",
     "output_type": "stream",
     "text": [
      "True\n"
     ]
    }
   ],
   "source": [
    "resultado = False or False or mayor\n",
    "print(resultado)"
   ]
  },
  {
   "cell_type": "code",
   "execution_count": 10,
   "metadata": {},
   "outputs": [
    {
     "name": "stdout",
     "output_type": "stream",
     "text": [
      "False\n"
     ]
    }
   ],
   "source": [
    "resultado = False or False or menor\n",
    "print(resultado)"
   ]
  },
  {
   "cell_type": "code",
   "execution_count": 11,
   "metadata": {},
   "outputs": [
    {
     "name": "stdout",
     "output_type": "stream",
     "text": [
      "True\n"
     ]
    }
   ],
   "source": [
    "resultado = not False\n",
    "print(resultado)"
   ]
  },
  {
   "cell_type": "code",
   "execution_count": 12,
   "metadata": {},
   "outputs": [
    {
     "name": "stdout",
     "output_type": "stream",
     "text": [
      "False\n"
     ]
    }
   ],
   "source": [
    "resultado = not True\n",
    "print(resultado)"
   ]
  },
  {
   "cell_type": "code",
   "execution_count": 13,
   "metadata": {},
   "outputs": [
    {
     "name": "stdout",
     "output_type": "stream",
     "text": [
      "False\n"
     ]
    }
   ],
   "source": [
    "igualito = variable_1 is variable_2\n",
    "print(igualito)"
   ]
  },
  {
   "cell_type": "markdown",
   "metadata": {},
   "source": [
    "# Entrada de datos por Teclado\n",
    "Input() es una funcion por la cual se puede leer a traves del teclado designandolo a una variable cualquier entrada. "
   ]
  },
  {
   "cell_type": "code",
   "execution_count": 14,
   "metadata": {},
   "outputs": [
    {
     "name": "stdout",
     "output_type": "stream",
     "text": [
      "Cual es tu nombre?\n",
      "julio\n",
      "hola julio\n"
     ]
    }
   ],
   "source": [
    "print('Cual es tu nombre?')\n",
    "nombre_persona = input()\n",
    "print('hola', nombre_persona)"
   ]
  },
  {
   "cell_type": "markdown",
   "metadata": {},
   "source": [
    "la funcion input por defecto regresara un tipo str a la variable. Si se necesita trabajar con otro tipo de dato se debe convertir. utilizando metodos de declaracion como int(), str(), float()"
   ]
  },
  {
   "cell_type": "code",
   "execution_count": 18,
   "metadata": {},
   "outputs": [
    {
     "name": "stdout",
     "output_type": "stream",
     "text": [
      "Cual es tu nombre?\n",
      "julio\n",
      "Cual es tu edad?\n",
      "23\n",
      "Cual es tu peso?\n",
      "24.5\n",
      "estas autorizado(si/no)?\n",
      "si\n",
      "hola julio\n",
      "edad: 23\n",
      "peso: 24.5\n",
      "autorizado: True\n"
     ]
    }
   ],
   "source": [
    "print('Cual es tu nombre?')\n",
    "nombre_persona = input()\n",
    "print('Cual es tu edad?')\n",
    "edad = int(input())\n",
    "print('Cual es tu peso?')\n",
    "peso = float(input())\n",
    "print('estas autorizado(si/no)?')\n",
    "autorizado = input() == \"si\"\n",
    "print('hola', nombre_persona)\n",
    "print('edad:', edad)\n",
    "print('peso:', peso)\n",
    "print('autorizado:', autorizado)"
   ]
  },
  {
   "cell_type": "markdown",
   "metadata": {},
   "source": [
    "### Texto\n",
    "el texto puede incluirse dentro de la funcion para asi ahorrar lineas de codigo"
   ]
  },
  {
   "cell_type": "code",
   "execution_count": 19,
   "metadata": {},
   "outputs": [
    {
     "name": "stdout",
     "output_type": "stream",
     "text": [
      "Cual es tu nombre?julio\n",
      "Cual es tu edad?23\n",
      "Cual es tu peso?25.6\n",
      "estas autorizado(si/no)?si\n",
      "hola julio\n",
      "edad: 23\n",
      "peso: 25.6\n",
      "autorizado: True\n"
     ]
    }
   ],
   "source": [
    "nombre_persona = input('Cual es tu nombre?')\n",
    "edad = int(input('Cual es tu edad?'))\n",
    "peso = float(input('Cual es tu peso?'))\n",
    "autorizado = input('estas autorizado(si/no)?') == \"si\"\n",
    "print('hola', nombre_persona)\n",
    "print('edad:', edad)\n",
    "print('peso:', peso)\n",
    "print('autorizado:', autorizado)"
   ]
  },
  {
   "cell_type": "code",
   "execution_count": null,
   "metadata": {},
   "outputs": [],
   "source": []
  }
 ],
 "metadata": {
  "kernelspec": {
   "display_name": "Python 3",
   "language": "python",
   "name": "python3"
  },
  "language_info": {
   "codemirror_mode": {
    "name": "ipython",
    "version": 3
   },
   "file_extension": ".py",
   "mimetype": "text/x-python",
   "name": "python",
   "nbconvert_exporter": "python",
   "pygments_lexer": "ipython3",
   "version": "3.7.5"
  }
 },
 "nbformat": 4,
 "nbformat_minor": 4
}
