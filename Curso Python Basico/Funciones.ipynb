{
 "cells": [
  {
   "cell_type": "markdown",
   "metadata": {},
   "source": [
    "# Funciones\n",
    "\n",
    "las funciones son representadas con def un titulo con keysnake seguido de unos parentesis donde se incluiran los datos de parametros que debe recibir para poder trabajarlos."
   ]
  },
  {
   "cell_type": "code",
   "execution_count": 1,
   "metadata": {},
   "outputs": [
    {
     "name": "stdout",
     "output_type": "stream",
     "text": [
      "hola mundo\n"
     ]
    }
   ],
   "source": [
    "def saluda():\n",
    "    print('hola mundo') \n",
    "    \n",
    "saluda()"
   ]
  },
  {
   "cell_type": "code",
   "execution_count": 2,
   "metadata": {},
   "outputs": [
    {
     "ename": "TypeError",
     "evalue": "crear_mensaje() missing 1 required positional argument: 'nombre'",
     "output_type": "error",
     "traceback": [
      "\u001b[1;31m---------------------------------------------------------------------------\u001b[0m",
      "\u001b[1;31mTypeError\u001b[0m                                 Traceback (most recent call last)",
      "\u001b[1;32m<ipython-input-2-cfb59f8d0b80>\u001b[0m in \u001b[0;36m<module>\u001b[1;34m\u001b[0m\n\u001b[0;32m      3\u001b[0m     \u001b[1;32mreturn\u001b[0m \u001b[0mmensaje\u001b[0m\u001b[1;33m\u001b[0m\u001b[1;33m\u001b[0m\u001b[0m\n\u001b[0;32m      4\u001b[0m \u001b[1;33m\u001b[0m\u001b[0m\n\u001b[1;32m----> 5\u001b[1;33m \u001b[0mcrear_mensaje\u001b[0m\u001b[1;33m(\u001b[0m\u001b[1;33m)\u001b[0m\u001b[1;33m\u001b[0m\u001b[1;33m\u001b[0m\u001b[0m\n\u001b[0m",
      "\u001b[1;31mTypeError\u001b[0m: crear_mensaje() missing 1 required positional argument: 'nombre'"
     ]
    }
   ],
   "source": [
    "def crear_mensaje(nombre):\n",
    "    mensaje = 'Hola {}, bienvenido al curso de python 3 '.format(nombre)\n",
    "    return mensaje\n",
    "\n",
    "crear_mensaje()"
   ]
  },
  {
   "cell_type": "code",
   "execution_count": 3,
   "metadata": {},
   "outputs": [
    {
     "data": {
      "text/plain": [
       "'Hola Julio, bienvenido al curso de python 3 '"
      ]
     },
     "execution_count": 3,
     "metadata": {},
     "output_type": "execute_result"
    }
   ],
   "source": [
    "def crear_mensaje(nombre):\n",
    "    mensaje = 'Hola {}, bienvenido al curso de python 3 '.format(nombre)\n",
    "    return mensaje\n",
    "\n",
    "crear_mensaje('Julio')"
   ]
  },
  {
   "cell_type": "code",
   "execution_count": 4,
   "metadata": {},
   "outputs": [
    {
     "name": "stdout",
     "output_type": "stream",
     "text": [
      "Hola Julio, bienvenido al curso de python 3 \n"
     ]
    }
   ],
   "source": [
    "def crear_mensaje(nombre):\n",
    "    mensaje = 'Hola {}, bienvenido al curso de python 3 '.format(nombre)\n",
    "    return mensaje\n",
    "\n",
    "nuevo_mensaje = crear_mensaje('Julio')\n",
    "print(nuevo_mensaje)"
   ]
  },
  {
   "cell_type": "code",
   "execution_count": 5,
   "metadata": {},
   "outputs": [
    {
     "name": "stdout",
     "output_type": "stream",
     "text": [
      "Hola Julio, bienvenido al curso de python 3 \n",
      "60\n"
     ]
    }
   ],
   "source": [
    "def crear_mensaje(nombre):\n",
    "    mensaje = 'Hola {}, bienvenido al curso de python 3 '.format(nombre)\n",
    "    return mensaje\n",
    "def suma(val1, val2, val3):\n",
    "    return val1+val2+val3\n",
    "\n",
    "nuevo_mensaje = crear_mensaje('Julio')\n",
    "print(nuevo_mensaje)\n",
    "\n",
    "sumatoria = suma(10,20,30)\n",
    "print(sumatoria)"
   ]
  },
  {
   "cell_type": "code",
   "execution_count": 6,
   "metadata": {},
   "outputs": [
    {
     "name": "stdout",
     "output_type": "stream",
     "text": [
      "Hola Julio, bienvenido al curso de python 3 \n",
      "60\n",
      "Curso de Python Basico 3.6\n"
     ]
    }
   ],
   "source": [
    "def crear_mensaje(nombre):\n",
    "    mensaje = 'Hola {}, bienvenido al curso de python 3 '.format(nombre)\n",
    "    return mensaje\n",
    "def suma(val1, val2, val3):\n",
    "    return val1+val2+val3\n",
    "\n",
    "def obtener_curso():\n",
    "    return 'Curso de Python','Basico', 3.6\n",
    "\n",
    "\n",
    "nuevo_mensaje = crear_mensaje('Julio')\n",
    "print(nuevo_mensaje)\n",
    "\n",
    "sumatoria = suma(10,20,30)\n",
    "print(sumatoria)\n",
    "\n",
    "curso,nivel,version= obtener_curso()\n",
    "print(curso,nivel,version)\n"
   ]
  },
  {
   "cell_type": "code",
   "execution_count": 7,
   "metadata": {},
   "outputs": [
    {
     "name": "stdout",
     "output_type": "stream",
     "text": [
      "Julio\n",
      "Moreno\n",
      "24\n",
      "Julio Moreno\n"
     ]
    }
   ],
   "source": [
    "def crear_usuario(nombre,apellido,edad):\n",
    "    return{\n",
    "        'nombre':nombre,\n",
    "        'apellido': apellido,\n",
    "        'nombre_completo': \"{} {}\".format(nombre,apellido),\n",
    "        'edad':edad\n",
    "    }\n",
    "codi = crear_usuario(\"Julio\",\"Moreno\", 24)\n",
    "print(codi[\"nombre\"])\n",
    "print(codi[\"apellido\"])\n",
    "print(codi[\"edad\"])\n",
    "print(codi[\"nombre_completo\"])"
   ]
  },
  {
   "cell_type": "markdown",
   "metadata": {},
   "source": [
    "### Valores por Default de parametros\n",
    "Si se quiere tener un valor por default debe colocarse el signo igual en el argumento y colocar el parametro deseado.\n",
    "\n",
    "* no se puede asignar un valor con espacio.\n",
    "* la asignacion de los valores debe comenzar de derecha a izquierda, sin tener saltos.\n",
    "* \n",
    "\n",
    "asi como pueden tener por default los parametros pueden ser ingresados por cuenta propia a traves de la igualacion nombrando la variable en la llamada de la funcion"
   ]
  },
  {
   "cell_type": "code",
   "execution_count": 8,
   "metadata": {},
   "outputs": [
    {
     "name": "stdout",
     "output_type": "stream",
     "text": [
      "Julio\n",
      "Moreno\n",
      "25\n",
      "Julio Moreno\n"
     ]
    }
   ],
   "source": [
    "def crear_usuario(nombre,apellido,edad=25):\n",
    "    return{\n",
    "        'nombre':nombre,\n",
    "        'apellido': apellido,\n",
    "        'nombre_completo': \"{} {}\".format(nombre,apellido),\n",
    "        'edad':edad\n",
    "    }\n",
    "codi = crear_usuario(\"Julio\",\"Moreno\")\n",
    "print(codi[\"nombre\"])\n",
    "print(codi[\"apellido\"])\n",
    "print(codi[\"edad\"])\n",
    "print(codi[\"nombre_completo\"])"
   ]
  },
  {
   "cell_type": "code",
   "execution_count": 9,
   "metadata": {},
   "outputs": [
    {
     "name": "stdout",
     "output_type": "stream",
     "text": [
      "Moreno\n",
      "Julio\n",
      "25\n",
      "Moreno Julio\n"
     ]
    }
   ],
   "source": [
    "def crear_usuario(nombre,apellido,edad=25):\n",
    "    return{\n",
    "        'nombre':nombre,\n",
    "        'apellido': apellido,\n",
    "        'nombre_completo': \"{} {}\".format(nombre,apellido),\n",
    "        'edad':edad\n",
    "    }\n",
    "codi = crear_usuario(apellido=\"Julio\",nombre=\"Moreno\")\n",
    "print(codi[\"nombre\"])\n",
    "print(codi[\"apellido\"])\n",
    "print(codi[\"edad\"])\n",
    "print(codi[\"nombre_completo\"])"
   ]
  },
  {
   "cell_type": "markdown",
   "metadata": {},
   "source": [
    "# Args Keyword\n",
    "En ocasiones necesitaremos trabajar con funciones con los cuales no se tienen los numeros exactos de parametros a utilizar. Al utilizar el asterisco en un paramtros la funcion agrupara todos los paramtros en una tupla. Este mismo no se limita es decir se puede utilizar como complementario al final de los parametros de una funcion ejemplo:\n",
    "        \n",
    "        \n",
    "        def suma(nombre,*args)"
   ]
  },
  {
   "cell_type": "code",
   "execution_count": 10,
   "metadata": {},
   "outputs": [
    {
     "name": "stdout",
     "output_type": "stream",
     "text": [
      "60\n"
     ]
    }
   ],
   "source": [
    "def suma(val1,val2,val3):\n",
    "    return val1+val2+val3\n",
    "resultado = suma(10,20,30)\n",
    "print(resultado)"
   ]
  },
  {
   "cell_type": "code",
   "execution_count": 11,
   "metadata": {},
   "outputs": [
    {
     "name": "stdout",
     "output_type": "stream",
     "text": [
      "330\n"
     ]
    }
   ],
   "source": [
    "#Pero si son cuatro? debemos reestructurar con *args\n",
    "def suma(*args):\n",
    "    total = 0\n",
    "    for valor in args:\n",
    "        total+=valor\n",
    "    return total\n",
    "\n",
    "resultado = suma(50,60,80,50,90)\n",
    "print(resultado)\n",
    "\n"
   ]
  },
  {
   "cell_type": "code",
   "execution_count": 12,
   "metadata": {},
   "outputs": [
    {
     "name": "stdout",
     "output_type": "stream",
     "text": [
      "(50, 60, 80, 50, 90)\n",
      "330\n"
     ]
    }
   ],
   "source": [
    "#Pero si son cuatro? debemos reestructurar con *args\n",
    "def suma(*args):\n",
    "    total = 0\n",
    "    print(args)\n",
    "    for valor in args:\n",
    "        total+=valor\n",
    "    return total\n",
    "\n",
    "resultado = suma(50,60,80,50,90)\n",
    "print(resultado)"
   ]
  },
  {
   "cell_type": "code",
   "execution_count": 13,
   "metadata": {},
   "outputs": [
    {
     "name": "stdout",
     "output_type": "stream",
     "text": [
      "Este es un argumento requerido\n",
      "330\n"
     ]
    }
   ],
   "source": [
    "#Pero si son cuatro? debemos reestructurar con *args\n",
    "def suma(paramtro,*args):\n",
    "    total = 0\n",
    "    print(paramtro)\n",
    "    for valor in args:\n",
    "        total+=valor\n",
    "    return total\n",
    "\n",
    "resultado = suma('Este es un argumento requerido',50,60,80,50,90)\n",
    "print(resultado)"
   ]
  },
  {
   "cell_type": "markdown",
   "metadata": {},
   "source": [
    "### Kwargs\n",
    "Tambien existe lo que es llamado el doble asterisco los agrupa en un diccionario todos los argumentos donde el nombre de la llave es el nombre del paramtro. A su vez debe declararse como kwargs luego de los asteriscos"
   ]
  },
  {
   "cell_type": "code",
   "execution_count": 14,
   "metadata": {},
   "outputs": [
    {
     "name": "stdout",
     "output_type": "stream",
     "text": [
      "{'codi': True, 'facilito': False}\n"
     ]
    }
   ],
   "source": [
    "def usuarios_autenticados(**kwargs):\n",
    "    print(kwargs)\n",
    "    \n",
    "usuarios_autenticados(codi=True,facilito=False)\n"
   ]
  },
  {
   "cell_type": "code",
   "execution_count": 15,
   "metadata": {},
   "outputs": [
    {
     "name": "stdout",
     "output_type": "stream",
     "text": [
      "Valor Requerido\n",
      "(10, 20, 30)\n",
      "{'valor_1': True, 'valor_2': False}\n"
     ]
    }
   ],
   "source": [
    "def combinacion(requerido,*args,**kwargs):\n",
    "    print(requerido)\n",
    "    print(args)\n",
    "    print(kwargs)\n",
    "    \n",
    "combinacion(\"Valor Requerido\",10,20,30, valor_1=True,valor_2=False)\n",
    "    "
   ]
  },
  {
   "cell_type": "markdown",
   "metadata": {},
   "source": [
    "## Como terminar funciones\n",
    "\n",
    "una funcion termina al leer la ultima linea, si esta misma no cuenta con un return devolvera un None, debido a que esta funcion no tendra una manera de contestar que tiene devuelta al igualarlo a una variable.\n",
    "\n",
    "A su vez la funcion terminara al declarar el return, ya que esta en estructura es la linea que finaliza al codigo."
   ]
  },
  {
   "cell_type": "code",
   "execution_count": 16,
   "metadata": {},
   "outputs": [
    {
     "name": "stdout",
     "output_type": "stream",
     "text": [
      "Un mensaje\n"
     ]
    }
   ],
   "source": [
    "def mi_funcion():\n",
    "    print('Un mensaje')\n",
    "    \n",
    "mi_funcion()"
   ]
  },
  {
   "cell_type": "code",
   "execution_count": 17,
   "metadata": {},
   "outputs": [
    {
     "name": "stdout",
     "output_type": "stream",
     "text": [
      "Un mensaje\n",
      "Un mensaje dos\n",
      "None\n"
     ]
    }
   ],
   "source": [
    "def mi_funcion():\n",
    "    print('Un mensaje')\n",
    "    print('Un mensaje dos')\n",
    "    \n",
    "resultado = mi_funcion()\n",
    "print(resultado)"
   ]
  },
  {
   "cell_type": "code",
   "execution_count": 18,
   "metadata": {},
   "outputs": [
    {
     "name": "stdout",
     "output_type": "stream",
     "text": [
      "Un mensaje\n",
      "Un mensaje dos\n",
      "2\n"
     ]
    }
   ],
   "source": [
    "def mi_funcion():\n",
    "    print('Un mensaje')\n",
    "    print('Un mensaje dos')\n",
    "    return 2\n",
    "    \n",
    "resultado = mi_funcion()\n",
    "print(resultado)"
   ]
  },
  {
   "cell_type": "code",
   "execution_count": 19,
   "metadata": {},
   "outputs": [
    {
     "name": "stdout",
     "output_type": "stream",
     "text": [
      "Un mensaje\n",
      "2\n"
     ]
    }
   ],
   "source": [
    "def mi_funcion():\n",
    "    print('Un mensaje')\n",
    "    return 2\n",
    "    print('Un mensaje dos')\n",
    "    \n",
    "    \n",
    "resultado = mi_funcion()\n",
    "print(resultado)"
   ]
  },
  {
   "cell_type": "code",
   "execution_count": 20,
   "metadata": {},
   "outputs": [
    {
     "name": "stdout",
     "output_type": "stream",
     "text": [
      "None\n"
     ]
    }
   ],
   "source": [
    "def mi_funcion(parametro):\n",
    "    if parametro:\n",
    "        return 100\n",
    "    \n",
    "\n",
    "    \n",
    "    \n",
    "resultado = mi_funcion(\"\")\n",
    "print(resultado)"
   ]
  },
  {
   "cell_type": "code",
   "execution_count": 21,
   "metadata": {},
   "outputs": [
    {
     "name": "stdout",
     "output_type": "stream",
     "text": [
      "el resultado no es None\n"
     ]
    }
   ],
   "source": [
    "def mi_funcion(parametro):\n",
    "    if parametro:\n",
    "        return 100\n",
    "    \n",
    "\n",
    "    \n",
    "    \n",
    "resultado = mi_funcion(\"hola\")\n",
    "if resultado:\n",
    "    print('el resultado no es None')"
   ]
  },
  {
   "cell_type": "markdown",
   "metadata": {},
   "source": [
    "### Alcance Global\n",
    "\n",
    "las variables que se encuentren fuera de las funciones son llamadas variables globales. las variables internas en las funciones son completamente diferentes a las que son globales de no ser requerida como parametro.\n",
    "\n",
    "Las variables locales seran aquellas las cuales se encuentran dentro de las variables. si se desea cambiar la naturaleza de una variable global se debe colocar global seguido de la variable"
   ]
  },
  {
   "cell_type": "code",
   "execution_count": 22,
   "metadata": {},
   "outputs": [
    {
     "name": "stdout",
     "output_type": "stream",
     "text": [
      "Leon\n",
      "Leon\n"
     ]
    }
   ],
   "source": [
    "animal = 'Leon' # Variable Global\n",
    "\n",
    "def mostrar_animal():\n",
    "    print(animal)\n",
    "\n",
    "mostrar_animal()\n",
    "print(animal)"
   ]
  },
  {
   "cell_type": "code",
   "execution_count": 23,
   "metadata": {},
   "outputs": [
    {
     "name": "stdout",
     "output_type": "stream",
     "text": [
      "Ballena\n",
      "Leon\n"
     ]
    }
   ],
   "source": [
    "animal = 'Leon' # Variable Global\n",
    "\n",
    "def mostrar_animal():\n",
    "    animal = 'Ballena'\n",
    "    print(animal)\n",
    "\n",
    "mostrar_animal()\n",
    "print(animal)"
   ]
  },
  {
   "cell_type": "code",
   "execution_count": 24,
   "metadata": {},
   "outputs": [
    {
     "name": "stdout",
     "output_type": "stream",
     "text": [
      "Ballena\n",
      "Ballena\n"
     ]
    }
   ],
   "source": [
    "animal = 'Leon' # Variable Global\n",
    "\n",
    "def mostrar_animal():\n",
    "    global animal\n",
    "    animal = 'Ballena'\n",
    "    print(animal)\n",
    "\n",
    "mostrar_animal()\n",
    "print(animal)"
   ]
  },
  {
   "cell_type": "markdown",
   "metadata": {},
   "source": [
    "# Funciones Lambdas\n",
    "\n",
    "Estas son funciones anonimas, este tipo de funciones son expresadas en una linea de codigo ya que comunmente realiza tareas pequenas "
   ]
  },
  {
   "cell_type": "code",
   "execution_count": 25,
   "metadata": {},
   "outputs": [
    {
     "data": {
      "text/plain": [
       "89.6"
      ]
     },
     "execution_count": 25,
     "metadata": {},
     "output_type": "execute_result"
    }
   ],
   "source": [
    "def centigrados_farhenheit(grados):\n",
    "    return grados *1.8+32\n",
    "\n",
    "funcion_variable = centigrados_farhenheit\n",
    "funcion_variable(32)"
   ]
  },
  {
   "cell_type": "code",
   "execution_count": 26,
   "metadata": {},
   "outputs": [
    {
     "data": {
      "text/plain": [
       "89.6"
      ]
     },
     "execution_count": 26,
     "metadata": {},
     "output_type": "execute_result"
    }
   ],
   "source": [
    "mi_funcion = lambda grados=0 : grados * 1.8 + 32\n",
    "mi_funcion(32)"
   ]
  },
  {
   "cell_type": "markdown",
   "metadata": {},
   "source": [
    "Estas son algunas formas en las cuales podemos crear funciones lambdas más complejas.\n",
    "~~~\n",
    "    sin_parametros = lambda : True\n",
    "\n",
    "    con_valores = lambda val, val1=10, val2=10 : val + val1 + val2\n",
    "\n",
    "    con_asterisco = lambda *args : args[0]\n",
    "\n",
    "    con_doble_asterisco = lambda **kwargs : args[0]\n",
    "\n",
    "    con_asteriscos = lambda *args , **kwargs : kwargs.get('key', False)\n",
    "    \n",
    "~~~"
   ]
  },
  {
   "cell_type": "code",
   "execution_count": null,
   "metadata": {},
   "outputs": [],
   "source": []
  },
  {
   "cell_type": "code",
   "execution_count": null,
   "metadata": {},
   "outputs": [],
   "source": []
  },
  {
   "cell_type": "markdown",
   "metadata": {},
   "source": [
    "## Funcion MAP\n",
    "\n",
    "En Python, la función map nos permite aplicar una función sobre los items de un objeto iterable (lista, tupla, etc...).\n",
    "\n",
    "Sintaxis\n",
    "\n",
    "    map(function, objeto iterable)\n",
    "\n",
    "La función retornará un objeto map que posteriormente podemos convertir a una lista o tupla.\n",
    "\n",
    "    def cuadrado(numero):\n",
    "     return numero * numero\n",
    "\n",
    "    lista = [1,2,3,4,5]\n",
    "    resultado = map(cuadrado, lista)\n",
    "\n",
    "    lista_resultado = list(resultado)\n",
    "    print(lista_resultado)\n",
    "    \n",
    "Es posible utilizar map junto con una función lambda. En lo personal considero esta la mejor opción.\n",
    "\n",
    "    lista = [1,2,3,4,5]\n",
    "    resultado = map(lambda numero: numero * numero , lista)\n",
    "\n",
    "    lista_resultado = list(resultado)\n",
    "    print(lista_resultado)"
   ]
  },
  {
   "cell_type": "code",
   "execution_count": 28,
   "metadata": {},
   "outputs": [
    {
     "name": "stdout",
     "output_type": "stream",
     "text": [
      "[1, 4, 9, 16, 25]\n"
     ]
    }
   ],
   "source": [
    "def cuadrado(numero):\n",
    "    return numero * numero\n",
    "\n",
    "lista = [1,2,3,4,5]\n",
    "resultado = map(cuadrado, lista)\n",
    "\n",
    "lista_resultado = list(resultado)\n",
    "print(lista_resultado)"
   ]
  },
  {
   "cell_type": "code",
   "execution_count": 29,
   "metadata": {},
   "outputs": [
    {
     "name": "stdout",
     "output_type": "stream",
     "text": [
      "[1, 4, 9, 16, 25]\n"
     ]
    }
   ],
   "source": [
    "lista = [1,2,3,4,5]\n",
    "resultado = map(lambda numero: numero * numero , lista)\n",
    "\n",
    "lista_resultado = list(resultado)\n",
    "print(lista_resultado)"
   ]
  },
  {
   "cell_type": "markdown",
   "metadata": {},
   "source": [
    "## Funciones anidadas\n",
    "\n",
    "tal como lo hacemos en los ciclos podemos utilizar funciones anidadas para dar uso de un recorrido o iteracion"
   ]
  },
  {
   "cell_type": "code",
   "execution_count": 30,
   "metadata": {},
   "outputs": [],
   "source": [
    "def comenzar_playlist(lista):\n",
    "    \n",
    "    def reproducir():\n",
    "        for val in lista:\n",
    "            print(val)\n",
    "            \n",
    "            \n",
    "lista = ['Painted Black','Track 1 ','Track 2']\n",
    "comenzar_playlist(lista)"
   ]
  },
  {
   "cell_type": "code",
   "execution_count": 31,
   "metadata": {},
   "outputs": [
    {
     "name": "stdout",
     "output_type": "stream",
     "text": [
      "Painted Black\n",
      "Track 1 \n",
      "Track 2\n"
     ]
    }
   ],
   "source": [
    "def comenzar_playlist(lista):\n",
    "    \n",
    "    def reproducir():\n",
    "        for val in lista:\n",
    "            print(val)\n",
    "    reproducir()\n",
    "            \n",
    "lista = ['Painted Black','Track 1 ','Track 2']\n",
    "comenzar_playlist(lista)"
   ]
  },
  {
   "cell_type": "code",
   "execution_count": 32,
   "metadata": {},
   "outputs": [
    {
     "name": "stdout",
     "output_type": "stream",
     "text": [
      "Painted Black\n",
      "Track 1 \n",
      "Track 2\n",
      "['Painted Black', 'Track 1 ', 'Track 2']\n"
     ]
    }
   ],
   "source": [
    "def comenzar_playlist(lista):\n",
    "    \n",
    "    def reproducir():\n",
    "        for val in lista:\n",
    "            print(val)\n",
    "    reproducir()\n",
    "    print(lista)\n",
    "            \n",
    "lista = ['Painted Black','Track 1 ','Track 2']\n",
    "comenzar_playlist(lista)"
   ]
  },
  {
   "cell_type": "code",
   "execution_count": 34,
   "metadata": {},
   "outputs": [
    {
     "name": "stdout",
     "output_type": "stream",
     "text": [
      "1\n",
      "2\n",
      "3\n",
      "['Painted Black', 'Track 1 ', 'Track 2']\n"
     ]
    }
   ],
   "source": [
    "def comenzar_playlist(lista):\n",
    "    \n",
    "    def reproducir():\n",
    "        lista = ['1','2','3']\n",
    "        for val in lista:\n",
    "            \n",
    "            print(val)\n",
    "    reproducir()\n",
    "    print(lista)\n",
    "            \n",
    "lista = ['Painted Black','Track 1 ','Track 2']\n",
    "comenzar_playlist(lista)"
   ]
  },
  {
   "cell_type": "code",
   "execution_count": 35,
   "metadata": {},
   "outputs": [
    {
     "name": "stdout",
     "output_type": "stream",
     "text": [
      "1\n",
      "2\n",
      "3\n",
      "['1', '2', '3']\n"
     ]
    }
   ],
   "source": [
    "def comenzar_playlist(lista):\n",
    "    \n",
    "    def reproducir():\n",
    "        nonlocal lista\n",
    "        lista = ['1','2','3']\n",
    "        for val in lista:\n",
    "            \n",
    "            print(val)\n",
    "    reproducir()\n",
    "    print(lista)\n",
    "            \n",
    "lista = ['Painted Black','Track 1 ','Track 2']\n",
    "comenzar_playlist(lista)"
   ]
  },
  {
   "cell_type": "markdown",
   "metadata": {},
   "source": [
    "## Closures\n",
    "\n",
    "Cuando una funcion genera dinamicamente otra funcion es definido como cosere esta misma puede acceder a variables locales asi esta misma finalice."
   ]
  },
  {
   "cell_type": "code",
   "execution_count": 37,
   "metadata": {},
   "outputs": [],
   "source": [
    "def mostrar_mensaje(mensaje):\n",
    "    mensaje = mensaje.title()\n",
    "    \n",
    "    def mostrar():\n",
    "        print(mensaje)\n",
    "        \n",
    "    return mostrar"
   ]
  },
  {
   "cell_type": "code",
   "execution_count": 39,
   "metadata": {},
   "outputs": [
    {
     "name": "stdout",
     "output_type": "stream",
     "text": [
      "Codigo De Practica\n"
     ]
    }
   ],
   "source": [
    "def mostrar_mensaje(mensaje):\n",
    "    mensaje = mensaje.title()\n",
    "    \n",
    "    def mostrar():\n",
    "        print(mensaje)\n",
    "        \n",
    "    return mostrar\n",
    "\n",
    "nueva_funcion = mostrar_mensaje(\"Codigo de Practica\")\n",
    "nueva_funcion()"
   ]
  },
  {
   "cell_type": "markdown",
   "metadata": {},
   "source": [
    "## Decoradores"
   ]
  },
  {
   "cell_type": "markdown",
   "metadata": {},
   "source": [
    "Estas son funciones que sirven para la decoracion de un proceso o una funcion ya sea cambiando variables o agregando parametros que seran utilizados. estas mismas pueden ser acciones conexiones muy complejas pueden ser cualquier tipo.\n",
    "\n",
    "\n",
    "a,b,c\n",
    "\n",
    "a(b) -> c"
   ]
  },
  {
   "cell_type": "code",
   "execution_count": 40,
   "metadata": {},
   "outputs": [],
   "source": [
    "def decorador():\n",
    "    pass\n",
    "def funcion_a_decorar():\n",
    "    print('Esta es una funcion a decorar')\n",
    "    \n",
    "    "
   ]
  },
  {
   "cell_type": "code",
   "execution_count": 41,
   "metadata": {},
   "outputs": [],
   "source": [
    "def decorador(funcion):\n",
    "    def nueva_funcion():\n",
    "        pass\n",
    "def funcion_a_decorar():\n",
    "    print('Esta es una funcion a decorar')\n",
    "    \n",
    "    "
   ]
  },
  {
   "cell_type": "code",
   "execution_count": 42,
   "metadata": {},
   "outputs": [],
   "source": [
    "def decorador(funcion):\n",
    "    def nueva_funcion():\n",
    "        pass\n",
    "    return nueva_funcion\n",
    "def funcion_a_decorar():\n",
    "    print('Esta es una funcion a decorar')\n",
    "    "
   ]
  },
  {
   "cell_type": "code",
   "execution_count": 43,
   "metadata": {},
   "outputs": [],
   "source": [
    "def decorador(funcion):\n",
    "    def nueva_funcion():\n",
    "        print('Podemos agregar codigo antes')\n",
    "        funcion()\n",
    "        print('Podemos agregar codigo despues')\n",
    "    return nueva_funcion\n",
    "def funcion_a_decorar():\n",
    "    print('Esta es una funcion a decorar')"
   ]
  },
  {
   "cell_type": "code",
   "execution_count": 44,
   "metadata": {},
   "outputs": [
    {
     "name": "stdout",
     "output_type": "stream",
     "text": [
      "Podemos agregar codigo antes\n",
      "Esta es una funcion a decorar\n",
      "Podemos agregar codigo despues\n"
     ]
    }
   ],
   "source": [
    "def decorador(funcion):\n",
    "    def nueva_funcion():\n",
    "        print('Podemos agregar codigo antes')\n",
    "        funcion()\n",
    "        print('Podemos agregar codigo despues')\n",
    "    return nueva_funcion\n",
    "\n",
    "\n",
    "@decorador\n",
    "def funcion_a_decorar():\n",
    "    print('Esta es una funcion a decorar')\n",
    "    \n",
    "funcion_a_decorar()"
   ]
  },
  {
   "cell_type": "code",
   "execution_count": 49,
   "metadata": {},
   "outputs": [
    {
     "ename": "TypeError",
     "evalue": "nueva_funcion() takes 0 positional arguments but 2 were given",
     "output_type": "error",
     "traceback": [
      "\u001b[1;31m---------------------------------------------------------------------------\u001b[0m",
      "\u001b[1;31mTypeError\u001b[0m                                 Traceback (most recent call last)",
      "\u001b[1;32m<ipython-input-49-ac41884e11e7>\u001b[0m in \u001b[0;36m<module>\u001b[1;34m\u001b[0m\n\u001b[0;32m     16\u001b[0m     \u001b[1;32mreturn\u001b[0m \u001b[0mval1\u001b[0m\u001b[1;33m+\u001b[0m\u001b[0mval2\u001b[0m\u001b[1;33m\u001b[0m\u001b[1;33m\u001b[0m\u001b[0m\n\u001b[0;32m     17\u001b[0m \u001b[1;33m\u001b[0m\u001b[0m\n\u001b[1;32m---> 18\u001b[1;33m \u001b[0msuma\u001b[0m\u001b[1;33m(\u001b[0m\u001b[1;36m10\u001b[0m\u001b[1;33m,\u001b[0m \u001b[1;36m20\u001b[0m\u001b[1;33m)\u001b[0m\u001b[1;33m\u001b[0m\u001b[1;33m\u001b[0m\u001b[0m\n\u001b[0m",
      "\u001b[1;31mTypeError\u001b[0m: nueva_funcion() takes 0 positional arguments but 2 were given"
     ]
    }
   ],
   "source": [
    "def decorador(funcion):\n",
    "    def nueva_funcion():\n",
    "        print('Podemos agregar codigo antes')\n",
    "        funcion()\n",
    "        print('Podemos agregar codigo despues')\n",
    "    return nueva_funcion\n",
    "\n",
    "\n",
    "@decorador\n",
    "def funcion_a_decorar():\n",
    "    print('Esta es una funcion a decorar')\n",
    "\n",
    "    \n",
    "@decorador\n",
    "def suma(val1, val2):\n",
    "    return val1+val2\n",
    "\n",
    "suma(10, 20)\n"
   ]
  },
  {
   "cell_type": "code",
   "execution_count": 51,
   "metadata": {},
   "outputs": [
    {
     "name": "stdout",
     "output_type": "stream",
     "text": [
      "Podemos agregar codigo antes\n",
      "Podemos agregar codigo despues\n",
      "None\n"
     ]
    }
   ],
   "source": [
    " def decorador(funcion):\n",
    "    def nueva_funcion(*args, **kwargs):\n",
    "        print('Podemos agregar codigo antes')\n",
    "        funcion(*args, **kwargs)\n",
    "        print('Podemos agregar codigo despues')\n",
    "    return nueva_funcion\n",
    "\n",
    "\n",
    "@decorador\n",
    "def funcion_a_decorar():\n",
    "    print('Esta es una funcion a decorar')\n",
    "\n",
    "    \n",
    "@decorador\n",
    "def suma(val1, val2):\n",
    "    return val1+val2\n",
    "\n",
    "print(suma(10, 20))"
   ]
  },
  {
   "cell_type": "code",
   "execution_count": 54,
   "metadata": {},
   "outputs": [
    {
     "name": "stdout",
     "output_type": "stream",
     "text": [
      "Podemos agregar codigo antes\n",
      "Esta es una funcion a decorar\n",
      "Podemos agregar codigo despues\n",
      "aaaaaaaaa\n",
      "Podemos agregar codigo antes\n",
      "Podemos agregar codigo despues\n",
      "30\n"
     ]
    }
   ],
   "source": [
    " def decorador(funcion):\n",
    "    def nueva_funcion(*args, **kwargs):\n",
    "        print('Podemos agregar codigo antes')\n",
    "        resultado = funcion(*args, **kwargs)\n",
    "        print('Podemos agregar codigo despues')\n",
    "        return resultado\n",
    "        \n",
    "    return nueva_funcion\n",
    "\n",
    "\n",
    "@decorador\n",
    "def funcion_a_decorar():\n",
    "    print('Esta es una funcion a decorar')\n",
    "\n",
    "    \n",
    "@decorador\n",
    "def suma(val1, val2):\n",
    "    return val1+val2\n",
    "funcion_a_decorar()\n",
    "print('aaaaaaaaa')\n",
    "print(suma(10, 20))"
   ]
  },
  {
   "cell_type": "markdown",
   "metadata": {},
   "source": [
    "## Generadores\n",
    "\n",
    "la palabra yeild realiza la funcion return sin finalizar la funcion"
   ]
  },
  {
   "cell_type": "code",
   "execution_count": 55,
   "metadata": {},
   "outputs": [
    {
     "name": "stdout",
     "output_type": "stream",
     "text": [
      "9\n",
      "18\n",
      "27\n",
      "36\n",
      "45\n",
      "54\n",
      "63\n",
      "72\n",
      "81\n"
     ]
    }
   ],
   "source": [
    "def tabla_mult(numero, maximo=10):\n",
    "    for posicion in range(1, maximo):\n",
    "        yield numero * posicion\n",
    "        \n",
    "for resultado in tabla_mult(9):\n",
    "    print(resultado)"
   ]
  },
  {
   "cell_type": "code",
   "execution_count": 56,
   "metadata": {},
   "outputs": [
    {
     "name": "stdout",
     "output_type": "stream",
     "text": [
      "(9, 1, 9, 1)\n",
      "(18, 2, 9, 2)\n",
      "(27, 3, 9, 3)\n",
      "(36, 4, 9, 4)\n",
      "(45, 5, 9, 5)\n",
      "(54, 6, 9, 6)\n",
      "(63, 7, 9, 7)\n",
      "(72, 8, 9, 8)\n",
      "(81, 9, 9, 9)\n"
     ]
    }
   ],
   "source": [
    "def tabla_mult(numero, maximo=10):\n",
    "    for posicion in range(1, maximo):\n",
    "        yield numero * posicion, posicion, numero, posicion\n",
    "        \n",
    "for resultado in tabla_mult(9):\n",
    "    print(resultado)"
   ]
  },
  {
   "cell_type": "code",
   "execution_count": 65,
   "metadata": {},
   "outputs": [
    {
     "ename": "ValueError",
     "evalue": "too many values to unpack (expected 3)",
     "output_type": "error",
     "traceback": [
      "\u001b[1;31m---------------------------------------------------------------------------\u001b[0m",
      "\u001b[1;31mValueError\u001b[0m                                Traceback (most recent call last)",
      "\u001b[1;32m<ipython-input-65-b94a2bd34057>\u001b[0m in \u001b[0;36m<module>\u001b[1;34m\u001b[0m\n\u001b[0;32m      3\u001b[0m         \u001b[1;32myield\u001b[0m \u001b[0mnumero\u001b[0m \u001b[1;33m*\u001b[0m \u001b[0mposicion\u001b[0m\u001b[1;33m,\u001b[0m \u001b[0mposicion\u001b[0m\u001b[1;33m,\u001b[0m \u001b[0mnumero\u001b[0m\u001b[1;33m,\u001b[0m \u001b[0mposicion\u001b[0m\u001b[1;33m\u001b[0m\u001b[1;33m\u001b[0m\u001b[0m\n\u001b[0;32m      4\u001b[0m \u001b[1;33m\u001b[0m\u001b[0m\n\u001b[1;32m----> 5\u001b[1;33m \u001b[1;32mfor\u001b[0m \u001b[1;33m(\u001b[0m\u001b[0mresultado\u001b[0m\u001b[1;33m,\u001b[0m \u001b[0mnumero\u001b[0m\u001b[1;33m,\u001b[0m \u001b[0mposicion\u001b[0m\u001b[1;33m)\u001b[0m \u001b[1;32min\u001b[0m \u001b[0mtabla_mult\u001b[0m\u001b[1;33m(\u001b[0m\u001b[1;36m9\u001b[0m\u001b[1;33m)\u001b[0m\u001b[1;33m:\u001b[0m\u001b[1;33m\u001b[0m\u001b[1;33m\u001b[0m\u001b[0m\n\u001b[0m\u001b[0;32m      6\u001b[0m     \u001b[0mprint\u001b[0m\u001b[1;33m(\u001b[0m\u001b[0mresultado\u001b[0m\u001b[1;33m)\u001b[0m\u001b[1;33m\u001b[0m\u001b[1;33m\u001b[0m\u001b[0m\n",
      "\u001b[1;31mValueError\u001b[0m: too many values to unpack (expected 3)"
     ]
    }
   ],
   "source": [
    "def tabla_mult(numero, maximo=10):\n",
    "    for posicion in range(1, maximo):\n",
    "        yield numero * posicion, posicion, numero, posicion\n",
    "        \n",
    "for resultado, numero, posicion in tabla_mult(9):\n",
    "    print(resultado)\n"
   ]
  },
  {
   "cell_type": "markdown",
   "metadata": {},
   "source": [
    "### Documentacion\n",
    "Cómo mencionamos anteriormente, una vez que nosotros definimos una función, podemos llamarla n cantidad de veces, inclusive, fuera de nuestro script, cómo lo veremos más adelante (módulos y paquetes) es por ello que una muy buena practica de programación es documentar nuestras funciones.\n",
    "\n",
    "Para que nosotros podamos documentar una función lo haremos mediante un comentario, comentario, el cual debe de encontrarse dentro de la función y utilizando triples comillas dobles, cómo podemos observar en el siguiente ejemplo.\n",
    "\n",
    "\n",
    "    def mi_funcion(*args):\n",
    "      \"\"\"Esta es la documentación de mi_función\"\"\"\n",
    "      print(args)\n",
    "      \n",
    "   * Recordemos que al utilizar triples comillas dobles podemos colocar un comentario con saltos de línea.\n",
    "\n",
    "\n",
    "Podemos trabajar con la documentación a través de su atributo ____doc____\n",
    "\n",
    "        print(mi_funcion.__doc__)"
   ]
  },
  {
   "cell_type": "code",
   "execution_count": null,
   "metadata": {},
   "outputs": [],
   "source": []
  }
 ],
 "metadata": {
  "kernelspec": {
   "display_name": "Python 3",
   "language": "python",
   "name": "python3"
  },
  "language_info": {
   "codemirror_mode": {
    "name": "ipython",
    "version": 3
   },
   "file_extension": ".py",
   "mimetype": "text/x-python",
   "name": "python",
   "nbconvert_exporter": "python",
   "pygments_lexer": "ipython3",
   "version": "3.7.5"
  }
 },
 "nbformat": 4,
 "nbformat_minor": 4
}
